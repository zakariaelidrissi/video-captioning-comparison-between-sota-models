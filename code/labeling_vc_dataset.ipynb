{
 "cells": [
  {
   "cell_type": "markdown",
   "id": "71e16c55-aee4-4a0d-9d82-caeb6f166432",
   "metadata": {},
   "source": [
    "## Import all required libraries"
   ]
  },
  {
   "cell_type": "code",
   "execution_count": 1,
   "id": "3008204b-e4a8-42bb-b254-fea42fa40de0",
   "metadata": {},
   "outputs": [],
   "source": [
    "from _get_frames import extract_frames_moviepy\n",
    "import cv2\n",
    "# from transformers import BlipProcessor, BlipForConditionalGeneration\n",
    "from transformers import Blip2Processor, Blip2ForConditionalGeneration\n",
    "from PIL import Image\n",
    "import os, json\n",
    "import torch\n",
    "from transformers import pipeline, BartForConditionalGeneration, BartTokenizer\n",
    "# from _get_answer import answer"
   ]
  },
  {
   "cell_type": "markdown",
   "id": "70148e16-b86d-4da0-9024-ff966fd3e272",
   "metadata": {},
   "source": [
    "## Extract video frames"
   ]
  },
  {
   "cell_type": "code",
   "execution_count": 2,
   "id": "dbfddd4e-2fee-4034-a9d0-7319a338af93",
   "metadata": {},
   "outputs": [],
   "source": [
    "video_path = \"../DatasetDivided/1-EasyCategory/EC_v_11.mp4\"\n",
    "output_frames_path = \"video_frames\""
   ]
  },
  {
   "cell_type": "code",
   "execution_count": 3,
   "id": "e5624776-a78c-413c-ac3e-d4445ea6f3b5",
   "metadata": {
    "scrolled": true
   },
   "outputs": [
    {
     "name": "stdout",
     "output_type": "stream",
     "text": [
      "iteration 0 ,  Frame 0 saved\n",
      "iteration 1 ,  Frame 10 saved\n",
      "iteration 2 ,  Frame 20 saved\n",
      "iteration 3 ,  Frame 30 saved\n",
      "iteration 4 ,  Frame 40 saved\n",
      "iteration 5 ,  Frame 50 saved\n",
      "iteration 6 ,  Frame 60 saved\n",
      "iteration 7 ,  Frame 70 saved\n",
      "iteration 8 ,  Frame 80 saved\n",
      "iteration 9 ,  Frame 90 saved\n",
      "iteration 10 ,  Frame 100 saved\n",
      "iteration 11 ,  Frame 110 saved\n",
      "iteration 12 ,  Frame 120 saved\n",
      "iteration 13 ,  Frame 130 saved\n",
      "iteration 14 ,  Frame 140 saved\n",
      "iteration 15 ,  Frame 150 saved\n",
      "iteration 16 ,  Frame 160 saved\n",
      "iteration 17 ,  Frame 170 saved\n",
      "iteration 18 ,  Frame 180 saved\n",
      "iteration 19 ,  Frame 190 saved\n",
      "iteration 20 ,  Frame 200 saved\n",
      "iteration 21 ,  Frame 210 saved\n",
      "iteration 22 ,  Frame 220 saved\n",
      "iteration 23 ,  Frame 230 saved\n",
      "iteration 24 ,  Frame 240 saved\n",
      "iteration 25 ,  Frame 250 saved\n",
      "iteration 26 ,  Frame 260 saved\n",
      "iteration 27 ,  Frame 270 saved\n",
      "iteration 28 ,  Frame 280 saved\n",
      "iteration 29 ,  Frame 290 saved\n",
      "iteration 30 ,  Frame 300 saved\n",
      "iteration 31 ,  Frame 310 saved\n",
      "iteration 32 ,  Frame 320 saved\n",
      "iteration 33 ,  Frame 330 saved\n",
      "iteration 34 ,  Frame 340 saved\n",
      "iteration 35 ,  Frame 350 saved\n",
      "iteration 36 ,  Frame 360 saved\n",
      "iteration 37 ,  Frame 370 saved\n",
      "iteration 38 ,  Frame 380 saved\n",
      "iteration 39 ,  Frame 390 saved\n",
      "iteration 40 ,  Frame 400 saved\n",
      "iteration 41 ,  Frame 410 saved\n",
      "iteration 42 ,  Frame 420 saved\n",
      "iteration 43 ,  Frame 430 saved\n",
      "iteration 44 ,  Frame 440 saved\n",
      "iteration 45 ,  Frame 450 saved\n",
      "iteration 46 ,  Frame 460 saved\n",
      "iteration 47 ,  Frame 470 saved\n",
      "iteration 48 ,  Frame 480 saved\n",
      "iteration 49 ,  Frame 490 saved\n",
      "iteration 50 ,  Frame 500 saved\n",
      "iteration 51 ,  Frame 510 saved\n",
      "iteration 52 ,  Frame 520 saved\n",
      "iteration 53 ,  Frame 530 saved\n",
      "iteration 54 ,  Frame 540 saved\n",
      "iteration 55 ,  Frame 550 saved\n",
      "iteration 56 ,  Frame 560 saved\n",
      "iteration 57 ,  Frame 570 saved\n",
      "iteration 58 ,  Frame 580 saved\n",
      "iteration 59 ,  Frame 590 saved\n",
      "iteration 60 ,  Frame 600 saved\n",
      "iteration 61 ,  Frame 610 saved\n",
      "iteration 62 ,  Frame 620 saved\n",
      "iteration 63 ,  Frame 630 saved\n",
      "iteration 64 ,  Frame 640 saved\n",
      "iteration 65 ,  Frame 650 saved\n",
      "iteration 66 ,  Frame 660 saved\n",
      "iteration 67 ,  Frame 670 saved\n",
      "iteration 68 ,  Frame 680 saved\n",
      "iteration 69 ,  Frame 690 saved\n",
      "iteration 70 ,  Frame 700 saved\n",
      "iteration 71 ,  Frame 710 saved\n",
      "iteration 72 ,  Frame 720 saved\n",
      "iteration 73 ,  Frame 730 saved\n",
      "iteration 74 ,  Frame 740 saved\n",
      "iteration 75 ,  Frame 750 saved\n",
      "iteration 76 ,  Frame 760 saved\n",
      "iteration 77 ,  Frame 770 saved\n",
      "iteration 78 ,  Frame 780 saved\n",
      "iteration 79 ,  Frame 790 saved\n",
      "iteration 80 ,  Frame 800 saved\n",
      "iteration 81 ,  Frame 810 saved\n",
      "iteration 82 ,  Frame 820 saved\n",
      "iteration 83 ,  Frame 830 saved\n",
      "iteration 84 ,  Frame 840 saved\n",
      "iteration 85 ,  Frame 850 saved\n",
      "iteration 86 ,  Frame 860 saved\n",
      "iteration 87 ,  Frame 870 saved\n",
      "iteration 88 ,  Frame 880 saved\n",
      "iteration 89 ,  Frame 890 saved\n",
      "iteration 90 ,  Frame 900 saved\n",
      "iteration 91 ,  Frame 910 saved\n",
      "iteration 92 ,  Frame 920 saved\n",
      "iteration 93 ,  Frame 930 saved\n",
      "iteration 94 ,  Frame 940 saved\n",
      "iteration 95 ,  Frame 950 saved\n",
      "iteration 96 ,  Frame 960 saved\n",
      "iteration 97 ,  Frame 970 saved\n",
      "iteration 98 ,  Frame 980 saved\n",
      "iteration 99 ,  Frame 990 saved\n",
      "iteration 100 ,  Frame 1000 saved\n",
      "iteration 101 ,  Frame 1010 saved\n",
      "iteration 102 ,  Frame 1020 saved\n",
      "iteration 103 ,  Frame 1030 saved\n",
      "iteration 104 ,  Frame 1040 saved\n",
      "iteration 105 ,  Frame 1050 saved\n",
      "iteration 106 ,  Frame 1060 saved\n",
      "iteration 107 ,  Frame 1070 saved\n",
      "iteration 108 ,  Frame 1080 saved\n",
      "iteration 109 ,  Frame 1090 saved\n",
      "iteration 110 ,  Frame 1100 saved\n",
      "iteration 111 ,  Frame 1110 saved\n",
      "iteration 112 ,  Frame 1120 saved\n",
      "iteration 113 ,  Frame 1130 saved\n",
      "iteration 114 ,  Frame 1140 saved\n",
      "iteration 115 ,  Frame 1150 saved\n",
      "iteration 116 ,  Frame 1160 saved\n",
      "iteration 117 ,  Frame 1170 saved\n",
      "iteration 118 ,  Frame 1180 saved\n",
      "iteration 119 ,  Frame 1190 saved\n",
      "iteration 120 ,  Frame 1200 saved\n",
      "iteration 121 ,  Frame 1210 saved\n",
      "iteration 122 ,  Frame 1220 saved\n",
      "iteration 123 ,  Frame 1230 saved\n",
      "iteration 124 ,  Frame 1240 saved\n",
      "iteration 125 ,  Frame 1250 saved\n",
      "iteration 126 ,  Frame 1260 saved\n",
      "iteration 127 ,  Frame 1270 saved\n",
      "iteration 128 ,  Frame 1280 saved\n",
      "iteration 129 ,  Frame 1290 saved\n",
      "iteration 130 ,  Frame 1300 saved\n",
      "iteration 131 ,  Frame 1310 saved\n",
      "iteration 132 ,  Frame 1320 saved\n",
      "iteration 133 ,  Frame 1330 saved\n",
      "iteration 134 ,  Frame 1340 saved\n",
      "iteration 135 ,  Frame 1350 saved\n",
      "iteration 136 ,  Frame 1360 saved\n",
      "iteration 137 ,  Frame 1370 saved\n",
      "iteration 138 ,  Frame 1380 saved\n",
      "iteration 139 ,  Frame 1390 saved\n",
      "iteration 140 ,  Frame 1400 saved\n",
      "iteration 141 ,  Frame 1410 saved\n",
      "iteration 142 ,  Frame 1420 saved\n",
      "iteration 143 ,  Frame 1430 saved\n",
      "iteration 144 ,  Frame 1440 saved\n",
      "iteration 145 ,  Frame 1450 saved\n",
      "iteration 146 ,  Frame 1460 saved\n",
      "iteration 147 ,  Frame 1470 saved\n",
      "iteration 148 ,  Frame 1480 saved\n",
      "iteration 149 ,  Frame 1490 saved\n",
      "iteration 150 ,  Frame 1500 saved\n",
      "iteration 151 ,  Frame 1510 saved\n",
      "iteration 152 ,  Frame 1520 saved\n",
      "iteration 153 ,  Frame 1530 saved\n",
      "iteration 154 ,  Frame 1540 saved\n",
      "iteration 155 ,  Frame 1550 saved\n",
      "iteration 156 ,  Frame 1560 saved\n",
      "iteration 157 ,  Frame 1570 saved\n",
      "iteration 158 ,  Frame 1580 saved\n",
      "iteration 159 ,  Frame 1590 saved\n",
      "iteration 160 ,  Frame 1600 saved\n",
      "iteration 161 ,  Frame 1610 saved\n",
      "iteration 162 ,  Frame 1620 saved\n",
      "iteration 163 ,  Frame 1630 saved\n",
      "iteration 164 ,  Frame 1640 saved\n",
      "iteration 165 ,  Frame 1650 saved\n",
      "iteration 166 ,  Frame 1660 saved\n",
      "iteration 167 ,  Frame 1670 saved\n",
      "iteration 168 ,  Frame 1680 saved\n",
      "iteration 169 ,  Frame 1690 saved\n",
      "iteration 170 ,  Frame 1700 saved\n",
      "iteration 171 ,  Frame 1710 saved\n",
      "iteration 172 ,  Frame 1720 saved\n",
      "iteration 173 ,  Frame 1730 saved\n",
      "iteration 174 ,  Frame 1740 saved\n",
      "iteration 175 ,  Frame 1750 saved\n",
      "iteration 176 ,  Frame 1760 saved\n",
      "iteration 177 ,  Frame 1770 saved\n",
      "iteration 178 ,  Frame 1780 saved\n",
      "iteration 179 ,  Frame 1790 saved\n",
      "iteration 180 ,  Frame 1800 saved\n",
      "iteration 181 ,  Frame 1810 saved\n",
      "iteration 182 ,  Frame 1820 saved\n",
      "iteration 183 ,  Frame 1830 saved\n",
      "iteration 184 ,  Frame 1840 saved\n",
      "iteration 185 ,  Frame 1850 saved\n",
      "iteration 186 ,  Frame 1860 saved\n",
      "iteration 187 ,  Frame 1870 saved\n",
      "iteration 188 ,  Frame 1880 saved\n",
      "iteration 189 ,  Frame 1890 saved\n",
      "iteration 190 ,  Frame 1900 saved\n",
      "iteration 191 ,  Frame 1910 saved\n",
      "iteration 192 ,  Frame 1920 saved\n",
      "iteration 193 ,  Frame 1930 saved\n",
      "iteration 194 ,  Frame 1940 saved\n",
      "iteration 195 ,  Frame 1950 saved\n",
      "iteration 196 ,  Frame 1960 saved\n",
      "iteration 197 ,  Frame 1970 saved\n",
      "iteration 198 ,  Frame 1980 saved\n",
      "iteration 199 ,  Frame 1990 saved\n",
      "iteration 200 ,  Frame 2000 saved\n",
      "iteration 201 ,  Frame 2010 saved\n",
      "iteration 202 ,  Frame 2020 saved\n",
      "iteration 203 ,  Frame 2030 saved\n",
      "iteration 204 ,  Frame 2040 saved\n",
      "iteration 205 ,  Frame 2050 saved\n",
      "iteration 206 ,  Frame 2060 saved\n",
      "iteration 207 ,  Frame 2070 saved\n",
      "iteration 208 ,  Frame 2080 saved\n",
      "iteration 209 ,  Frame 2090 saved\n",
      "iteration 210 ,  Frame 2100 saved\n",
      "iteration 211 ,  Frame 2110 saved\n",
      "iteration 212 ,  Frame 2120 saved\n",
      "iteration 213 ,  Frame 2130 saved\n",
      "iteration 214 ,  Frame 2140 saved\n",
      "iteration 215 ,  Frame 2150 saved\n",
      "iteration 216 ,  Frame 2160 saved\n",
      "iteration 217 ,  Frame 2170 saved\n",
      "iteration 218 ,  Frame 2180 saved\n",
      "iteration 219 ,  Frame 2190 saved\n",
      "iteration 220 ,  Frame 2200 saved\n",
      "iteration 221 ,  Frame 2210 saved\n",
      "iteration 222 ,  Frame 2220 saved\n",
      "########## Frames extraction completed ##########\n"
     ]
    }
   ],
   "source": [
    "extract_frames_moviepy(video_path, output_frames_path)"
   ]
  },
  {
   "cell_type": "code",
   "execution_count": 4,
   "id": "5f74a6a3-d0a2-470d-b161-dbcd2fb3008a",
   "metadata": {},
   "outputs": [
    {
     "data": {
      "text/plain": [
       "['frame_0.jpg',\n",
       " 'frame_10.jpg',\n",
       " 'frame_100.jpg',\n",
       " 'frame_1000.jpg',\n",
       " 'frame_1010.jpg',\n",
       " 'frame_1020.jpg']"
      ]
     },
     "execution_count": 4,
     "metadata": {},
     "output_type": "execute_result"
    }
   ],
   "source": [
    "# List frames in the output folder\n",
    "frames = os.listdir(output_frames_path)\n",
    "frames[:6]"
   ]
  },
  {
   "cell_type": "code",
   "execution_count": 5,
   "id": "8f6a56cd-258d-4069-8818-3ee9ba7795bf",
   "metadata": {},
   "outputs": [
    {
     "name": "stdout",
     "output_type": "stream",
     "text": [
      "['frame_0.jpg', 'frame_10.jpg', 'frame_20.jpg', 'frame_30.jpg', 'frame_40.jpg', 'frame_50.jpg']\n"
     ]
    }
   ],
   "source": [
    "# Sort frames by the numeric part of the filenames\n",
    "sorted_frames = sorted(frames, key=lambda x: int(x.split('_')[1].split('.')[0]))\n",
    "\n",
    "# Example: Print the first 4 sorted frames\n",
    "print(sorted_frames[0:6])"
   ]
  },
  {
   "cell_type": "markdown",
   "id": "a6b11fab-afdc-4e35-bfb3-395f674663c6",
   "metadata": {},
   "source": [
    "## Use a pre-trained captioning model"
   ]
  },
  {
   "cell_type": "code",
   "execution_count": 6,
   "id": "cc1c6d66-40cd-4eb4-9477-81e359f7925a",
   "metadata": {},
   "outputs": [],
   "source": [
    "# blip_local_directory = \"./huggingface_models/model-blip-image-captioning\"\n",
    "blip2_local_directory = \"./huggingface_models/model-blip2-opt-captioning\"\n",
    "model_name = \"Salesforce/blip2-opt-2.7b\"\n",
    "# model_name = \"Salesforce/blip2-opt-6.7b\"\n",
    "# model_name = \"Salesforce/blip2-opt\""
   ]
  },
  {
   "cell_type": "code",
   "execution_count": 7,
   "id": "2546352f-2fa3-4a87-80c4-02557e6b8b90",
   "metadata": {},
   "outputs": [
    {
     "data": {
      "application/vnd.jupyter.widget-view+json": {
       "model_id": "174f094cdda544f1bccb8b3788bf8df1",
       "version_major": 2,
       "version_minor": 0
      },
      "text/plain": [
       "preprocessor_config.json:   0%|          | 0.00/432 [00:00<?, ?B/s]"
      ]
     },
     "metadata": {},
     "output_type": "display_data"
    },
    {
     "data": {
      "application/vnd.jupyter.widget-view+json": {
       "model_id": "be9d7336ce504f07a217c824ef5ec55d",
       "version_major": 2,
       "version_minor": 0
      },
      "text/plain": [
       "tokenizer_config.json:   0%|          | 0.00/882 [00:00<?, ?B/s]"
      ]
     },
     "metadata": {},
     "output_type": "display_data"
    },
    {
     "data": {
      "application/vnd.jupyter.widget-view+json": {
       "model_id": "382c48e13dc04aeba5ff87d173d24643",
       "version_major": 2,
       "version_minor": 0
      },
      "text/plain": [
       "vocab.json:   0%|          | 0.00/798k [00:00<?, ?B/s]"
      ]
     },
     "metadata": {},
     "output_type": "display_data"
    },
    {
     "data": {
      "application/vnd.jupyter.widget-view+json": {
       "model_id": "cf0d395159a8478cabf278591ea62b80",
       "version_major": 2,
       "version_minor": 0
      },
      "text/plain": [
       "merges.txt:   0%|          | 0.00/456k [00:00<?, ?B/s]"
      ]
     },
     "metadata": {},
     "output_type": "display_data"
    },
    {
     "data": {
      "application/vnd.jupyter.widget-view+json": {
       "model_id": "4ddd4e5eae5e4784b08d7939bfc0aa51",
       "version_major": 2,
       "version_minor": 0
      },
      "text/plain": [
       "tokenizer.json:   0%|          | 0.00/3.56M [00:00<?, ?B/s]"
      ]
     },
     "metadata": {},
     "output_type": "display_data"
    },
    {
     "data": {
      "application/vnd.jupyter.widget-view+json": {
       "model_id": "7f35906a466a42dfa5d739495c51c88b",
       "version_major": 2,
       "version_minor": 0
      },
      "text/plain": [
       "added_tokens.json:   0%|          | 0.00/23.0 [00:00<?, ?B/s]"
      ]
     },
     "metadata": {},
     "output_type": "display_data"
    },
    {
     "data": {
      "application/vnd.jupyter.widget-view+json": {
       "model_id": "9d998d2140a04239818b99a70d575cc0",
       "version_major": 2,
       "version_minor": 0
      },
      "text/plain": [
       "special_tokens_map.json:   0%|          | 0.00/548 [00:00<?, ?B/s]"
      ]
     },
     "metadata": {},
     "output_type": "display_data"
    },
    {
     "data": {
      "application/vnd.jupyter.widget-view+json": {
       "model_id": "6ca54f136d1e4577826c8490346f031a",
       "version_major": 2,
       "version_minor": 0
      },
      "text/plain": [
       "processor_config.json:   0%|          | 0.00/68.0 [00:00<?, ?B/s]"
      ]
     },
     "metadata": {},
     "output_type": "display_data"
    },
    {
     "data": {
      "application/vnd.jupyter.widget-view+json": {
       "model_id": "0da17a90804e46018221b0f73018effc",
       "version_major": 2,
       "version_minor": 0
      },
      "text/plain": [
       "config.json:   0%|          | 0.00/1.03k [00:00<?, ?B/s]"
      ]
     },
     "metadata": {},
     "output_type": "display_data"
    },
    {
     "data": {
      "application/vnd.jupyter.widget-view+json": {
       "model_id": "643571d5b2774036aec6efdeecdc743d",
       "version_major": 2,
       "version_minor": 0
      },
      "text/plain": [
       "model.safetensors.index.json:   0%|          | 0.00/122k [00:00<?, ?B/s]"
      ]
     },
     "metadata": {},
     "output_type": "display_data"
    },
    {
     "data": {
      "application/vnd.jupyter.widget-view+json": {
       "model_id": "ea6697d5baa644398bc89f19acda1e91",
       "version_major": 2,
       "version_minor": 0
      },
      "text/plain": [
       "Downloading shards:   0%|          | 0/2 [00:00<?, ?it/s]"
      ]
     },
     "metadata": {},
     "output_type": "display_data"
    },
    {
     "data": {
      "application/vnd.jupyter.widget-view+json": {
       "model_id": "2591a5d38331416aade614ceae6f7779",
       "version_major": 2,
       "version_minor": 0
      },
      "text/plain": [
       "model-00001-of-00002.safetensors:   0%|          | 0.00/10.0G [00:00<?, ?B/s]"
      ]
     },
     "metadata": {},
     "output_type": "display_data"
    },
    {
     "ename": "OSError",
     "evalue": "We couldn't connect to 'https://huggingface.co' to load this file, couldn't find it in the cached files and it looks like Salesforce/blip2-opt-2.7b is not the path to a directory containing a file named model-00002-of-00002.safetensors.\nCheckout your internet connection or see how to run the library in offline mode at 'https://huggingface.co/docs/transformers/installation#offline-mode'.",
     "output_type": "error",
     "traceback": [
      "\u001b[1;31m---------------------------------------------------------------------------\u001b[0m",
      "\u001b[1;31mRemoteDisconnected\u001b[0m                        Traceback (most recent call last)",
      "File \u001b[1;32m~\\miniconda3\\envs\\vc-llms-env\\lib\\site-packages\\urllib3\\connectionpool.py:787\u001b[0m, in \u001b[0;36mHTTPConnectionPool.urlopen\u001b[1;34m(self, method, url, body, headers, retries, redirect, assert_same_host, timeout, pool_timeout, release_conn, chunked, body_pos, preload_content, decode_content, **response_kw)\u001b[0m\n\u001b[0;32m    786\u001b[0m \u001b[38;5;66;03m# Make the request on the HTTPConnection object\u001b[39;00m\n\u001b[1;32m--> 787\u001b[0m response \u001b[38;5;241m=\u001b[39m \u001b[38;5;28mself\u001b[39m\u001b[38;5;241m.\u001b[39m_make_request(\n\u001b[0;32m    788\u001b[0m     conn,\n\u001b[0;32m    789\u001b[0m     method,\n\u001b[0;32m    790\u001b[0m     url,\n\u001b[0;32m    791\u001b[0m     timeout\u001b[38;5;241m=\u001b[39mtimeout_obj,\n\u001b[0;32m    792\u001b[0m     body\u001b[38;5;241m=\u001b[39mbody,\n\u001b[0;32m    793\u001b[0m     headers\u001b[38;5;241m=\u001b[39mheaders,\n\u001b[0;32m    794\u001b[0m     chunked\u001b[38;5;241m=\u001b[39mchunked,\n\u001b[0;32m    795\u001b[0m     retries\u001b[38;5;241m=\u001b[39mretries,\n\u001b[0;32m    796\u001b[0m     response_conn\u001b[38;5;241m=\u001b[39mresponse_conn,\n\u001b[0;32m    797\u001b[0m     preload_content\u001b[38;5;241m=\u001b[39mpreload_content,\n\u001b[0;32m    798\u001b[0m     decode_content\u001b[38;5;241m=\u001b[39mdecode_content,\n\u001b[0;32m    799\u001b[0m     \u001b[38;5;241m*\u001b[39m\u001b[38;5;241m*\u001b[39mresponse_kw,\n\u001b[0;32m    800\u001b[0m )\n\u001b[0;32m    802\u001b[0m \u001b[38;5;66;03m# Everything went great!\u001b[39;00m\n",
      "File \u001b[1;32m~\\miniconda3\\envs\\vc-llms-env\\lib\\site-packages\\urllib3\\connectionpool.py:534\u001b[0m, in \u001b[0;36mHTTPConnectionPool._make_request\u001b[1;34m(self, conn, method, url, body, headers, retries, timeout, chunked, response_conn, preload_content, decode_content, enforce_content_length)\u001b[0m\n\u001b[0;32m    533\u001b[0m \u001b[38;5;28;01mtry\u001b[39;00m:\n\u001b[1;32m--> 534\u001b[0m     response \u001b[38;5;241m=\u001b[39m \u001b[43mconn\u001b[49m\u001b[38;5;241;43m.\u001b[39;49m\u001b[43mgetresponse\u001b[49m\u001b[43m(\u001b[49m\u001b[43m)\u001b[49m\n\u001b[0;32m    535\u001b[0m \u001b[38;5;28;01mexcept\u001b[39;00m (BaseSSLError, \u001b[38;5;167;01mOSError\u001b[39;00m) \u001b[38;5;28;01mas\u001b[39;00m e:\n",
      "File \u001b[1;32m~\\miniconda3\\envs\\vc-llms-env\\lib\\site-packages\\urllib3\\connection.py:516\u001b[0m, in \u001b[0;36mHTTPConnection.getresponse\u001b[1;34m(self)\u001b[0m\n\u001b[0;32m    515\u001b[0m \u001b[38;5;66;03m# Get the response from http.client.HTTPConnection\u001b[39;00m\n\u001b[1;32m--> 516\u001b[0m httplib_response \u001b[38;5;241m=\u001b[39m \u001b[38;5;28;43msuper\u001b[39;49m\u001b[43m(\u001b[49m\u001b[43m)\u001b[49m\u001b[38;5;241;43m.\u001b[39;49m\u001b[43mgetresponse\u001b[49m\u001b[43m(\u001b[49m\u001b[43m)\u001b[49m\n\u001b[0;32m    518\u001b[0m \u001b[38;5;28;01mtry\u001b[39;00m:\n",
      "File \u001b[1;32m~\\miniconda3\\envs\\vc-llms-env\\lib\\http\\client.py:1375\u001b[0m, in \u001b[0;36mHTTPConnection.getresponse\u001b[1;34m(self)\u001b[0m\n\u001b[0;32m   1374\u001b[0m \u001b[38;5;28;01mtry\u001b[39;00m:\n\u001b[1;32m-> 1375\u001b[0m     \u001b[43mresponse\u001b[49m\u001b[38;5;241;43m.\u001b[39;49m\u001b[43mbegin\u001b[49m\u001b[43m(\u001b[49m\u001b[43m)\u001b[49m\n\u001b[0;32m   1376\u001b[0m \u001b[38;5;28;01mexcept\u001b[39;00m \u001b[38;5;167;01mConnectionError\u001b[39;00m:\n",
      "File \u001b[1;32m~\\miniconda3\\envs\\vc-llms-env\\lib\\http\\client.py:318\u001b[0m, in \u001b[0;36mHTTPResponse.begin\u001b[1;34m(self)\u001b[0m\n\u001b[0;32m    317\u001b[0m \u001b[38;5;28;01mwhile\u001b[39;00m \u001b[38;5;28;01mTrue\u001b[39;00m:\n\u001b[1;32m--> 318\u001b[0m     version, status, reason \u001b[38;5;241m=\u001b[39m \u001b[38;5;28;43mself\u001b[39;49m\u001b[38;5;241;43m.\u001b[39;49m\u001b[43m_read_status\u001b[49m\u001b[43m(\u001b[49m\u001b[43m)\u001b[49m\n\u001b[0;32m    319\u001b[0m     \u001b[38;5;28;01mif\u001b[39;00m status \u001b[38;5;241m!=\u001b[39m CONTINUE:\n",
      "File \u001b[1;32m~\\miniconda3\\envs\\vc-llms-env\\lib\\http\\client.py:287\u001b[0m, in \u001b[0;36mHTTPResponse._read_status\u001b[1;34m(self)\u001b[0m\n\u001b[0;32m    284\u001b[0m \u001b[38;5;28;01mif\u001b[39;00m \u001b[38;5;129;01mnot\u001b[39;00m line:\n\u001b[0;32m    285\u001b[0m     \u001b[38;5;66;03m# Presumably, the server closed the connection before\u001b[39;00m\n\u001b[0;32m    286\u001b[0m     \u001b[38;5;66;03m# sending a valid response.\u001b[39;00m\n\u001b[1;32m--> 287\u001b[0m     \u001b[38;5;28;01mraise\u001b[39;00m RemoteDisconnected(\u001b[38;5;124m\"\u001b[39m\u001b[38;5;124mRemote end closed connection without\u001b[39m\u001b[38;5;124m\"\u001b[39m\n\u001b[0;32m    288\u001b[0m                              \u001b[38;5;124m\"\u001b[39m\u001b[38;5;124m response\u001b[39m\u001b[38;5;124m\"\u001b[39m)\n\u001b[0;32m    289\u001b[0m \u001b[38;5;28;01mtry\u001b[39;00m:\n",
      "\u001b[1;31mRemoteDisconnected\u001b[0m: Remote end closed connection without response",
      "\nDuring handling of the above exception, another exception occurred:\n",
      "\u001b[1;31mProtocolError\u001b[0m                             Traceback (most recent call last)",
      "File \u001b[1;32m~\\miniconda3\\envs\\vc-llms-env\\lib\\site-packages\\requests\\adapters.py:667\u001b[0m, in \u001b[0;36mHTTPAdapter.send\u001b[1;34m(self, request, stream, timeout, verify, cert, proxies)\u001b[0m\n\u001b[0;32m    666\u001b[0m \u001b[38;5;28;01mtry\u001b[39;00m:\n\u001b[1;32m--> 667\u001b[0m     resp \u001b[38;5;241m=\u001b[39m \u001b[43mconn\u001b[49m\u001b[38;5;241;43m.\u001b[39;49m\u001b[43murlopen\u001b[49m\u001b[43m(\u001b[49m\n\u001b[0;32m    668\u001b[0m \u001b[43m        \u001b[49m\u001b[43mmethod\u001b[49m\u001b[38;5;241;43m=\u001b[39;49m\u001b[43mrequest\u001b[49m\u001b[38;5;241;43m.\u001b[39;49m\u001b[43mmethod\u001b[49m\u001b[43m,\u001b[49m\n\u001b[0;32m    669\u001b[0m \u001b[43m        \u001b[49m\u001b[43murl\u001b[49m\u001b[38;5;241;43m=\u001b[39;49m\u001b[43murl\u001b[49m\u001b[43m,\u001b[49m\n\u001b[0;32m    670\u001b[0m \u001b[43m        \u001b[49m\u001b[43mbody\u001b[49m\u001b[38;5;241;43m=\u001b[39;49m\u001b[43mrequest\u001b[49m\u001b[38;5;241;43m.\u001b[39;49m\u001b[43mbody\u001b[49m\u001b[43m,\u001b[49m\n\u001b[0;32m    671\u001b[0m \u001b[43m        \u001b[49m\u001b[43mheaders\u001b[49m\u001b[38;5;241;43m=\u001b[39;49m\u001b[43mrequest\u001b[49m\u001b[38;5;241;43m.\u001b[39;49m\u001b[43mheaders\u001b[49m\u001b[43m,\u001b[49m\n\u001b[0;32m    672\u001b[0m \u001b[43m        \u001b[49m\u001b[43mredirect\u001b[49m\u001b[38;5;241;43m=\u001b[39;49m\u001b[38;5;28;43;01mFalse\u001b[39;49;00m\u001b[43m,\u001b[49m\n\u001b[0;32m    673\u001b[0m \u001b[43m        \u001b[49m\u001b[43massert_same_host\u001b[49m\u001b[38;5;241;43m=\u001b[39;49m\u001b[38;5;28;43;01mFalse\u001b[39;49;00m\u001b[43m,\u001b[49m\n\u001b[0;32m    674\u001b[0m \u001b[43m        \u001b[49m\u001b[43mpreload_content\u001b[49m\u001b[38;5;241;43m=\u001b[39;49m\u001b[38;5;28;43;01mFalse\u001b[39;49;00m\u001b[43m,\u001b[49m\n\u001b[0;32m    675\u001b[0m \u001b[43m        \u001b[49m\u001b[43mdecode_content\u001b[49m\u001b[38;5;241;43m=\u001b[39;49m\u001b[38;5;28;43;01mFalse\u001b[39;49;00m\u001b[43m,\u001b[49m\n\u001b[0;32m    676\u001b[0m \u001b[43m        \u001b[49m\u001b[43mretries\u001b[49m\u001b[38;5;241;43m=\u001b[39;49m\u001b[38;5;28;43mself\u001b[39;49m\u001b[38;5;241;43m.\u001b[39;49m\u001b[43mmax_retries\u001b[49m\u001b[43m,\u001b[49m\n\u001b[0;32m    677\u001b[0m \u001b[43m        \u001b[49m\u001b[43mtimeout\u001b[49m\u001b[38;5;241;43m=\u001b[39;49m\u001b[43mtimeout\u001b[49m\u001b[43m,\u001b[49m\n\u001b[0;32m    678\u001b[0m \u001b[43m        \u001b[49m\u001b[43mchunked\u001b[49m\u001b[38;5;241;43m=\u001b[39;49m\u001b[43mchunked\u001b[49m\u001b[43m,\u001b[49m\n\u001b[0;32m    679\u001b[0m \u001b[43m    \u001b[49m\u001b[43m)\u001b[49m\n\u001b[0;32m    681\u001b[0m \u001b[38;5;28;01mexcept\u001b[39;00m (ProtocolError, \u001b[38;5;167;01mOSError\u001b[39;00m) \u001b[38;5;28;01mas\u001b[39;00m err:\n",
      "File \u001b[1;32m~\\miniconda3\\envs\\vc-llms-env\\lib\\site-packages\\urllib3\\connectionpool.py:841\u001b[0m, in \u001b[0;36mHTTPConnectionPool.urlopen\u001b[1;34m(self, method, url, body, headers, retries, redirect, assert_same_host, timeout, pool_timeout, release_conn, chunked, body_pos, preload_content, decode_content, **response_kw)\u001b[0m\n\u001b[0;32m    839\u001b[0m     new_e \u001b[38;5;241m=\u001b[39m ProtocolError(\u001b[38;5;124m\"\u001b[39m\u001b[38;5;124mConnection aborted.\u001b[39m\u001b[38;5;124m\"\u001b[39m, new_e)\n\u001b[1;32m--> 841\u001b[0m retries \u001b[38;5;241m=\u001b[39m \u001b[43mretries\u001b[49m\u001b[38;5;241;43m.\u001b[39;49m\u001b[43mincrement\u001b[49m\u001b[43m(\u001b[49m\n\u001b[0;32m    842\u001b[0m \u001b[43m    \u001b[49m\u001b[43mmethod\u001b[49m\u001b[43m,\u001b[49m\u001b[43m \u001b[49m\u001b[43murl\u001b[49m\u001b[43m,\u001b[49m\u001b[43m \u001b[49m\u001b[43merror\u001b[49m\u001b[38;5;241;43m=\u001b[39;49m\u001b[43mnew_e\u001b[49m\u001b[43m,\u001b[49m\u001b[43m \u001b[49m\u001b[43m_pool\u001b[49m\u001b[38;5;241;43m=\u001b[39;49m\u001b[38;5;28;43mself\u001b[39;49m\u001b[43m,\u001b[49m\u001b[43m \u001b[49m\u001b[43m_stacktrace\u001b[49m\u001b[38;5;241;43m=\u001b[39;49m\u001b[43msys\u001b[49m\u001b[38;5;241;43m.\u001b[39;49m\u001b[43mexc_info\u001b[49m\u001b[43m(\u001b[49m\u001b[43m)\u001b[49m\u001b[43m[\u001b[49m\u001b[38;5;241;43m2\u001b[39;49m\u001b[43m]\u001b[49m\n\u001b[0;32m    843\u001b[0m \u001b[43m\u001b[49m\u001b[43m)\u001b[49m\n\u001b[0;32m    844\u001b[0m retries\u001b[38;5;241m.\u001b[39msleep()\n",
      "File \u001b[1;32m~\\miniconda3\\envs\\vc-llms-env\\lib\\site-packages\\urllib3\\util\\retry.py:474\u001b[0m, in \u001b[0;36mRetry.increment\u001b[1;34m(self, method, url, response, error, _pool, _stacktrace)\u001b[0m\n\u001b[0;32m    473\u001b[0m \u001b[38;5;28;01mif\u001b[39;00m read \u001b[38;5;129;01mis\u001b[39;00m \u001b[38;5;28;01mFalse\u001b[39;00m \u001b[38;5;129;01mor\u001b[39;00m method \u001b[38;5;129;01mis\u001b[39;00m \u001b[38;5;28;01mNone\u001b[39;00m \u001b[38;5;129;01mor\u001b[39;00m \u001b[38;5;129;01mnot\u001b[39;00m \u001b[38;5;28mself\u001b[39m\u001b[38;5;241m.\u001b[39m_is_method_retryable(method):\n\u001b[1;32m--> 474\u001b[0m     \u001b[38;5;28;01mraise\u001b[39;00m \u001b[43mreraise\u001b[49m\u001b[43m(\u001b[49m\u001b[38;5;28;43mtype\u001b[39;49m\u001b[43m(\u001b[49m\u001b[43merror\u001b[49m\u001b[43m)\u001b[49m\u001b[43m,\u001b[49m\u001b[43m \u001b[49m\u001b[43merror\u001b[49m\u001b[43m,\u001b[49m\u001b[43m \u001b[49m\u001b[43m_stacktrace\u001b[49m\u001b[43m)\u001b[49m\n\u001b[0;32m    475\u001b[0m \u001b[38;5;28;01melif\u001b[39;00m read \u001b[38;5;129;01mis\u001b[39;00m \u001b[38;5;129;01mnot\u001b[39;00m \u001b[38;5;28;01mNone\u001b[39;00m:\n",
      "File \u001b[1;32m~\\miniconda3\\envs\\vc-llms-env\\lib\\site-packages\\urllib3\\util\\util.py:38\u001b[0m, in \u001b[0;36mreraise\u001b[1;34m(tp, value, tb)\u001b[0m\n\u001b[0;32m     37\u001b[0m \u001b[38;5;28;01mif\u001b[39;00m value\u001b[38;5;241m.\u001b[39m__traceback__ \u001b[38;5;129;01mis\u001b[39;00m \u001b[38;5;129;01mnot\u001b[39;00m tb:\n\u001b[1;32m---> 38\u001b[0m     \u001b[38;5;28;01mraise\u001b[39;00m value\u001b[38;5;241m.\u001b[39mwith_traceback(tb)\n\u001b[0;32m     39\u001b[0m \u001b[38;5;28;01mraise\u001b[39;00m value\n",
      "File \u001b[1;32m~\\miniconda3\\envs\\vc-llms-env\\lib\\site-packages\\urllib3\\connectionpool.py:787\u001b[0m, in \u001b[0;36mHTTPConnectionPool.urlopen\u001b[1;34m(self, method, url, body, headers, retries, redirect, assert_same_host, timeout, pool_timeout, release_conn, chunked, body_pos, preload_content, decode_content, **response_kw)\u001b[0m\n\u001b[0;32m    786\u001b[0m \u001b[38;5;66;03m# Make the request on the HTTPConnection object\u001b[39;00m\n\u001b[1;32m--> 787\u001b[0m response \u001b[38;5;241m=\u001b[39m \u001b[38;5;28mself\u001b[39m\u001b[38;5;241m.\u001b[39m_make_request(\n\u001b[0;32m    788\u001b[0m     conn,\n\u001b[0;32m    789\u001b[0m     method,\n\u001b[0;32m    790\u001b[0m     url,\n\u001b[0;32m    791\u001b[0m     timeout\u001b[38;5;241m=\u001b[39mtimeout_obj,\n\u001b[0;32m    792\u001b[0m     body\u001b[38;5;241m=\u001b[39mbody,\n\u001b[0;32m    793\u001b[0m     headers\u001b[38;5;241m=\u001b[39mheaders,\n\u001b[0;32m    794\u001b[0m     chunked\u001b[38;5;241m=\u001b[39mchunked,\n\u001b[0;32m    795\u001b[0m     retries\u001b[38;5;241m=\u001b[39mretries,\n\u001b[0;32m    796\u001b[0m     response_conn\u001b[38;5;241m=\u001b[39mresponse_conn,\n\u001b[0;32m    797\u001b[0m     preload_content\u001b[38;5;241m=\u001b[39mpreload_content,\n\u001b[0;32m    798\u001b[0m     decode_content\u001b[38;5;241m=\u001b[39mdecode_content,\n\u001b[0;32m    799\u001b[0m     \u001b[38;5;241m*\u001b[39m\u001b[38;5;241m*\u001b[39mresponse_kw,\n\u001b[0;32m    800\u001b[0m )\n\u001b[0;32m    802\u001b[0m \u001b[38;5;66;03m# Everything went great!\u001b[39;00m\n",
      "File \u001b[1;32m~\\miniconda3\\envs\\vc-llms-env\\lib\\site-packages\\urllib3\\connectionpool.py:534\u001b[0m, in \u001b[0;36mHTTPConnectionPool._make_request\u001b[1;34m(self, conn, method, url, body, headers, retries, timeout, chunked, response_conn, preload_content, decode_content, enforce_content_length)\u001b[0m\n\u001b[0;32m    533\u001b[0m \u001b[38;5;28;01mtry\u001b[39;00m:\n\u001b[1;32m--> 534\u001b[0m     response \u001b[38;5;241m=\u001b[39m \u001b[43mconn\u001b[49m\u001b[38;5;241;43m.\u001b[39;49m\u001b[43mgetresponse\u001b[49m\u001b[43m(\u001b[49m\u001b[43m)\u001b[49m\n\u001b[0;32m    535\u001b[0m \u001b[38;5;28;01mexcept\u001b[39;00m (BaseSSLError, \u001b[38;5;167;01mOSError\u001b[39;00m) \u001b[38;5;28;01mas\u001b[39;00m e:\n",
      "File \u001b[1;32m~\\miniconda3\\envs\\vc-llms-env\\lib\\site-packages\\urllib3\\connection.py:516\u001b[0m, in \u001b[0;36mHTTPConnection.getresponse\u001b[1;34m(self)\u001b[0m\n\u001b[0;32m    515\u001b[0m \u001b[38;5;66;03m# Get the response from http.client.HTTPConnection\u001b[39;00m\n\u001b[1;32m--> 516\u001b[0m httplib_response \u001b[38;5;241m=\u001b[39m \u001b[38;5;28;43msuper\u001b[39;49m\u001b[43m(\u001b[49m\u001b[43m)\u001b[49m\u001b[38;5;241;43m.\u001b[39;49m\u001b[43mgetresponse\u001b[49m\u001b[43m(\u001b[49m\u001b[43m)\u001b[49m\n\u001b[0;32m    518\u001b[0m \u001b[38;5;28;01mtry\u001b[39;00m:\n",
      "File \u001b[1;32m~\\miniconda3\\envs\\vc-llms-env\\lib\\http\\client.py:1375\u001b[0m, in \u001b[0;36mHTTPConnection.getresponse\u001b[1;34m(self)\u001b[0m\n\u001b[0;32m   1374\u001b[0m \u001b[38;5;28;01mtry\u001b[39;00m:\n\u001b[1;32m-> 1375\u001b[0m     \u001b[43mresponse\u001b[49m\u001b[38;5;241;43m.\u001b[39;49m\u001b[43mbegin\u001b[49m\u001b[43m(\u001b[49m\u001b[43m)\u001b[49m\n\u001b[0;32m   1376\u001b[0m \u001b[38;5;28;01mexcept\u001b[39;00m \u001b[38;5;167;01mConnectionError\u001b[39;00m:\n",
      "File \u001b[1;32m~\\miniconda3\\envs\\vc-llms-env\\lib\\http\\client.py:318\u001b[0m, in \u001b[0;36mHTTPResponse.begin\u001b[1;34m(self)\u001b[0m\n\u001b[0;32m    317\u001b[0m \u001b[38;5;28;01mwhile\u001b[39;00m \u001b[38;5;28;01mTrue\u001b[39;00m:\n\u001b[1;32m--> 318\u001b[0m     version, status, reason \u001b[38;5;241m=\u001b[39m \u001b[38;5;28;43mself\u001b[39;49m\u001b[38;5;241;43m.\u001b[39;49m\u001b[43m_read_status\u001b[49m\u001b[43m(\u001b[49m\u001b[43m)\u001b[49m\n\u001b[0;32m    319\u001b[0m     \u001b[38;5;28;01mif\u001b[39;00m status \u001b[38;5;241m!=\u001b[39m CONTINUE:\n",
      "File \u001b[1;32m~\\miniconda3\\envs\\vc-llms-env\\lib\\http\\client.py:287\u001b[0m, in \u001b[0;36mHTTPResponse._read_status\u001b[1;34m(self)\u001b[0m\n\u001b[0;32m    284\u001b[0m \u001b[38;5;28;01mif\u001b[39;00m \u001b[38;5;129;01mnot\u001b[39;00m line:\n\u001b[0;32m    285\u001b[0m     \u001b[38;5;66;03m# Presumably, the server closed the connection before\u001b[39;00m\n\u001b[0;32m    286\u001b[0m     \u001b[38;5;66;03m# sending a valid response.\u001b[39;00m\n\u001b[1;32m--> 287\u001b[0m     \u001b[38;5;28;01mraise\u001b[39;00m RemoteDisconnected(\u001b[38;5;124m\"\u001b[39m\u001b[38;5;124mRemote end closed connection without\u001b[39m\u001b[38;5;124m\"\u001b[39m\n\u001b[0;32m    288\u001b[0m                              \u001b[38;5;124m\"\u001b[39m\u001b[38;5;124m response\u001b[39m\u001b[38;5;124m\"\u001b[39m)\n\u001b[0;32m    289\u001b[0m \u001b[38;5;28;01mtry\u001b[39;00m:\n",
      "\u001b[1;31mProtocolError\u001b[0m: ('Connection aborted.', RemoteDisconnected('Remote end closed connection without response'))",
      "\nDuring handling of the above exception, another exception occurred:\n",
      "\u001b[1;31mConnectionError\u001b[0m                           Traceback (most recent call last)",
      "File \u001b[1;32m~\\miniconda3\\envs\\vc-llms-env\\lib\\site-packages\\huggingface_hub\\file_download.py:1374\u001b[0m, in \u001b[0;36m_get_metadata_or_catch_error\u001b[1;34m(repo_id, filename, repo_type, revision, endpoint, proxies, etag_timeout, headers, token, local_files_only, relative_filename, storage_folder)\u001b[0m\n\u001b[0;32m   1373\u001b[0m \u001b[38;5;28;01mtry\u001b[39;00m:\n\u001b[1;32m-> 1374\u001b[0m     metadata \u001b[38;5;241m=\u001b[39m \u001b[43mget_hf_file_metadata\u001b[49m\u001b[43m(\u001b[49m\n\u001b[0;32m   1375\u001b[0m \u001b[43m        \u001b[49m\u001b[43murl\u001b[49m\u001b[38;5;241;43m=\u001b[39;49m\u001b[43murl\u001b[49m\u001b[43m,\u001b[49m\u001b[43m \u001b[49m\u001b[43mproxies\u001b[49m\u001b[38;5;241;43m=\u001b[39;49m\u001b[43mproxies\u001b[49m\u001b[43m,\u001b[49m\u001b[43m \u001b[49m\u001b[43mtimeout\u001b[49m\u001b[38;5;241;43m=\u001b[39;49m\u001b[43metag_timeout\u001b[49m\u001b[43m,\u001b[49m\u001b[43m \u001b[49m\u001b[43mheaders\u001b[49m\u001b[38;5;241;43m=\u001b[39;49m\u001b[43mheaders\u001b[49m\u001b[43m,\u001b[49m\u001b[43m \u001b[49m\u001b[43mtoken\u001b[49m\u001b[38;5;241;43m=\u001b[39;49m\u001b[43mtoken\u001b[49m\n\u001b[0;32m   1376\u001b[0m \u001b[43m    \u001b[49m\u001b[43m)\u001b[49m\n\u001b[0;32m   1377\u001b[0m \u001b[38;5;28;01mexcept\u001b[39;00m EntryNotFoundError \u001b[38;5;28;01mas\u001b[39;00m http_error:\n",
      "File \u001b[1;32m~\\miniconda3\\envs\\vc-llms-env\\lib\\site-packages\\huggingface_hub\\utils\\_validators.py:114\u001b[0m, in \u001b[0;36mvalidate_hf_hub_args.<locals>._inner_fn\u001b[1;34m(*args, **kwargs)\u001b[0m\n\u001b[0;32m    112\u001b[0m     kwargs \u001b[38;5;241m=\u001b[39m smoothly_deprecate_use_auth_token(fn_name\u001b[38;5;241m=\u001b[39mfn\u001b[38;5;241m.\u001b[39m\u001b[38;5;18m__name__\u001b[39m, has_token\u001b[38;5;241m=\u001b[39mhas_token, kwargs\u001b[38;5;241m=\u001b[39mkwargs)\n\u001b[1;32m--> 114\u001b[0m \u001b[38;5;28;01mreturn\u001b[39;00m fn(\u001b[38;5;241m*\u001b[39margs, \u001b[38;5;241m*\u001b[39m\u001b[38;5;241m*\u001b[39mkwargs)\n",
      "File \u001b[1;32m~\\miniconda3\\envs\\vc-llms-env\\lib\\site-packages\\huggingface_hub\\file_download.py:1294\u001b[0m, in \u001b[0;36mget_hf_file_metadata\u001b[1;34m(url, token, proxies, timeout, library_name, library_version, user_agent, headers)\u001b[0m\n\u001b[0;32m   1293\u001b[0m \u001b[38;5;66;03m# Retrieve metadata\u001b[39;00m\n\u001b[1;32m-> 1294\u001b[0m r \u001b[38;5;241m=\u001b[39m \u001b[43m_request_wrapper\u001b[49m\u001b[43m(\u001b[49m\n\u001b[0;32m   1295\u001b[0m \u001b[43m    \u001b[49m\u001b[43mmethod\u001b[49m\u001b[38;5;241;43m=\u001b[39;49m\u001b[38;5;124;43m\"\u001b[39;49m\u001b[38;5;124;43mHEAD\u001b[39;49m\u001b[38;5;124;43m\"\u001b[39;49m\u001b[43m,\u001b[49m\n\u001b[0;32m   1296\u001b[0m \u001b[43m    \u001b[49m\u001b[43murl\u001b[49m\u001b[38;5;241;43m=\u001b[39;49m\u001b[43murl\u001b[49m\u001b[43m,\u001b[49m\n\u001b[0;32m   1297\u001b[0m \u001b[43m    \u001b[49m\u001b[43mheaders\u001b[49m\u001b[38;5;241;43m=\u001b[39;49m\u001b[43mhf_headers\u001b[49m\u001b[43m,\u001b[49m\n\u001b[0;32m   1298\u001b[0m \u001b[43m    \u001b[49m\u001b[43mallow_redirects\u001b[49m\u001b[38;5;241;43m=\u001b[39;49m\u001b[38;5;28;43;01mFalse\u001b[39;49;00m\u001b[43m,\u001b[49m\n\u001b[0;32m   1299\u001b[0m \u001b[43m    \u001b[49m\u001b[43mfollow_relative_redirects\u001b[49m\u001b[38;5;241;43m=\u001b[39;49m\u001b[38;5;28;43;01mTrue\u001b[39;49;00m\u001b[43m,\u001b[49m\n\u001b[0;32m   1300\u001b[0m \u001b[43m    \u001b[49m\u001b[43mproxies\u001b[49m\u001b[38;5;241;43m=\u001b[39;49m\u001b[43mproxies\u001b[49m\u001b[43m,\u001b[49m\n\u001b[0;32m   1301\u001b[0m \u001b[43m    \u001b[49m\u001b[43mtimeout\u001b[49m\u001b[38;5;241;43m=\u001b[39;49m\u001b[43mtimeout\u001b[49m\u001b[43m,\u001b[49m\n\u001b[0;32m   1302\u001b[0m \u001b[43m\u001b[49m\u001b[43m)\u001b[49m\n\u001b[0;32m   1303\u001b[0m hf_raise_for_status(r)\n",
      "File \u001b[1;32m~\\miniconda3\\envs\\vc-llms-env\\lib\\site-packages\\huggingface_hub\\file_download.py:278\u001b[0m, in \u001b[0;36m_request_wrapper\u001b[1;34m(method, url, follow_relative_redirects, **params)\u001b[0m\n\u001b[0;32m    277\u001b[0m \u001b[38;5;28;01mif\u001b[39;00m follow_relative_redirects:\n\u001b[1;32m--> 278\u001b[0m     response \u001b[38;5;241m=\u001b[39m _request_wrapper(\n\u001b[0;32m    279\u001b[0m         method\u001b[38;5;241m=\u001b[39mmethod,\n\u001b[0;32m    280\u001b[0m         url\u001b[38;5;241m=\u001b[39murl,\n\u001b[0;32m    281\u001b[0m         follow_relative_redirects\u001b[38;5;241m=\u001b[39m\u001b[38;5;28;01mFalse\u001b[39;00m,\n\u001b[0;32m    282\u001b[0m         \u001b[38;5;241m*\u001b[39m\u001b[38;5;241m*\u001b[39mparams,\n\u001b[0;32m    283\u001b[0m     )\n\u001b[0;32m    285\u001b[0m     \u001b[38;5;66;03m# If redirection, we redirect only relative paths.\u001b[39;00m\n\u001b[0;32m    286\u001b[0m     \u001b[38;5;66;03m# This is useful in case of a renamed repository.\u001b[39;00m\n",
      "File \u001b[1;32m~\\miniconda3\\envs\\vc-llms-env\\lib\\site-packages\\huggingface_hub\\file_download.py:301\u001b[0m, in \u001b[0;36m_request_wrapper\u001b[1;34m(method, url, follow_relative_redirects, **params)\u001b[0m\n\u001b[0;32m    300\u001b[0m \u001b[38;5;66;03m# Perform request and return if status_code is not in the retry list.\u001b[39;00m\n\u001b[1;32m--> 301\u001b[0m response \u001b[38;5;241m=\u001b[39m get_session()\u001b[38;5;241m.\u001b[39mrequest(method\u001b[38;5;241m=\u001b[39mmethod, url\u001b[38;5;241m=\u001b[39murl, \u001b[38;5;241m*\u001b[39m\u001b[38;5;241m*\u001b[39mparams)\n\u001b[0;32m    302\u001b[0m hf_raise_for_status(response)\n",
      "File \u001b[1;32m~\\miniconda3\\envs\\vc-llms-env\\lib\\site-packages\\requests\\sessions.py:589\u001b[0m, in \u001b[0;36mSession.request\u001b[1;34m(self, method, url, params, data, headers, cookies, files, auth, timeout, allow_redirects, proxies, hooks, stream, verify, cert, json)\u001b[0m\n\u001b[0;32m    588\u001b[0m send_kwargs\u001b[38;5;241m.\u001b[39mupdate(settings)\n\u001b[1;32m--> 589\u001b[0m resp \u001b[38;5;241m=\u001b[39m \u001b[38;5;28mself\u001b[39m\u001b[38;5;241m.\u001b[39msend(prep, \u001b[38;5;241m*\u001b[39m\u001b[38;5;241m*\u001b[39msend_kwargs)\n\u001b[0;32m    591\u001b[0m \u001b[38;5;28;01mreturn\u001b[39;00m resp\n",
      "File \u001b[1;32m~\\miniconda3\\envs\\vc-llms-env\\lib\\site-packages\\requests\\sessions.py:703\u001b[0m, in \u001b[0;36mSession.send\u001b[1;34m(self, request, **kwargs)\u001b[0m\n\u001b[0;32m    702\u001b[0m \u001b[38;5;66;03m# Send the request\u001b[39;00m\n\u001b[1;32m--> 703\u001b[0m r \u001b[38;5;241m=\u001b[39m adapter\u001b[38;5;241m.\u001b[39msend(request, \u001b[38;5;241m*\u001b[39m\u001b[38;5;241m*\u001b[39mkwargs)\n\u001b[0;32m    705\u001b[0m \u001b[38;5;66;03m# Total elapsed time of the request (approximately)\u001b[39;00m\n",
      "File \u001b[1;32m~\\miniconda3\\envs\\vc-llms-env\\lib\\site-packages\\huggingface_hub\\utils\\_http.py:93\u001b[0m, in \u001b[0;36mUniqueRequestIdAdapter.send\u001b[1;34m(self, request, *args, **kwargs)\u001b[0m\n\u001b[0;32m     92\u001b[0m \u001b[38;5;28;01mtry\u001b[39;00m:\n\u001b[1;32m---> 93\u001b[0m     \u001b[38;5;28;01mreturn\u001b[39;00m \u001b[38;5;28msuper\u001b[39m()\u001b[38;5;241m.\u001b[39msend(request, \u001b[38;5;241m*\u001b[39margs, \u001b[38;5;241m*\u001b[39m\u001b[38;5;241m*\u001b[39mkwargs)\n\u001b[0;32m     94\u001b[0m \u001b[38;5;28;01mexcept\u001b[39;00m requests\u001b[38;5;241m.\u001b[39mRequestException \u001b[38;5;28;01mas\u001b[39;00m e:\n",
      "File \u001b[1;32m~\\miniconda3\\envs\\vc-llms-env\\lib\\site-packages\\requests\\adapters.py:682\u001b[0m, in \u001b[0;36mHTTPAdapter.send\u001b[1;34m(self, request, stream, timeout, verify, cert, proxies)\u001b[0m\n\u001b[0;32m    681\u001b[0m \u001b[38;5;28;01mexcept\u001b[39;00m (ProtocolError, \u001b[38;5;167;01mOSError\u001b[39;00m) \u001b[38;5;28;01mas\u001b[39;00m err:\n\u001b[1;32m--> 682\u001b[0m     \u001b[38;5;28;01mraise\u001b[39;00m \u001b[38;5;167;01mConnectionError\u001b[39;00m(err, request\u001b[38;5;241m=\u001b[39mrequest)\n\u001b[0;32m    684\u001b[0m \u001b[38;5;28;01mexcept\u001b[39;00m MaxRetryError \u001b[38;5;28;01mas\u001b[39;00m e:\n",
      "\u001b[1;31mConnectionError\u001b[0m: (ProtocolError('Connection aborted.', RemoteDisconnected('Remote end closed connection without response')), '(Request ID: 039c010e-2923-4f14-bc46-1a0205ae245a)')",
      "\nThe above exception was the direct cause of the following exception:\n",
      "\u001b[1;31mLocalEntryNotFoundError\u001b[0m                   Traceback (most recent call last)",
      "File \u001b[1;32m~\\miniconda3\\envs\\vc-llms-env\\lib\\site-packages\\transformers\\utils\\hub.py:403\u001b[0m, in \u001b[0;36mcached_file\u001b[1;34m(path_or_repo_id, filename, cache_dir, force_download, resume_download, proxies, token, revision, local_files_only, subfolder, repo_type, user_agent, _raise_exceptions_for_gated_repo, _raise_exceptions_for_missing_entries, _raise_exceptions_for_connection_errors, _commit_hash, **deprecated_kwargs)\u001b[0m\n\u001b[0;32m    401\u001b[0m \u001b[38;5;28;01mtry\u001b[39;00m:\n\u001b[0;32m    402\u001b[0m     \u001b[38;5;66;03m# Load from URL or cache if already cached\u001b[39;00m\n\u001b[1;32m--> 403\u001b[0m     resolved_file \u001b[38;5;241m=\u001b[39m \u001b[43mhf_hub_download\u001b[49m\u001b[43m(\u001b[49m\n\u001b[0;32m    404\u001b[0m \u001b[43m        \u001b[49m\u001b[43mpath_or_repo_id\u001b[49m\u001b[43m,\u001b[49m\n\u001b[0;32m    405\u001b[0m \u001b[43m        \u001b[49m\u001b[43mfilename\u001b[49m\u001b[43m,\u001b[49m\n\u001b[0;32m    406\u001b[0m \u001b[43m        \u001b[49m\u001b[43msubfolder\u001b[49m\u001b[38;5;241;43m=\u001b[39;49m\u001b[38;5;28;43;01mNone\u001b[39;49;00m\u001b[43m \u001b[49m\u001b[38;5;28;43;01mif\u001b[39;49;00m\u001b[43m \u001b[49m\u001b[38;5;28;43mlen\u001b[39;49m\u001b[43m(\u001b[49m\u001b[43msubfolder\u001b[49m\u001b[43m)\u001b[49m\u001b[43m \u001b[49m\u001b[38;5;241;43m==\u001b[39;49m\u001b[43m \u001b[49m\u001b[38;5;241;43m0\u001b[39;49m\u001b[43m \u001b[49m\u001b[38;5;28;43;01melse\u001b[39;49;00m\u001b[43m \u001b[49m\u001b[43msubfolder\u001b[49m\u001b[43m,\u001b[49m\n\u001b[0;32m    407\u001b[0m \u001b[43m        \u001b[49m\u001b[43mrepo_type\u001b[49m\u001b[38;5;241;43m=\u001b[39;49m\u001b[43mrepo_type\u001b[49m\u001b[43m,\u001b[49m\n\u001b[0;32m    408\u001b[0m \u001b[43m        \u001b[49m\u001b[43mrevision\u001b[49m\u001b[38;5;241;43m=\u001b[39;49m\u001b[43mrevision\u001b[49m\u001b[43m,\u001b[49m\n\u001b[0;32m    409\u001b[0m \u001b[43m        \u001b[49m\u001b[43mcache_dir\u001b[49m\u001b[38;5;241;43m=\u001b[39;49m\u001b[43mcache_dir\u001b[49m\u001b[43m,\u001b[49m\n\u001b[0;32m    410\u001b[0m \u001b[43m        \u001b[49m\u001b[43muser_agent\u001b[49m\u001b[38;5;241;43m=\u001b[39;49m\u001b[43muser_agent\u001b[49m\u001b[43m,\u001b[49m\n\u001b[0;32m    411\u001b[0m \u001b[43m        \u001b[49m\u001b[43mforce_download\u001b[49m\u001b[38;5;241;43m=\u001b[39;49m\u001b[43mforce_download\u001b[49m\u001b[43m,\u001b[49m\n\u001b[0;32m    412\u001b[0m \u001b[43m        \u001b[49m\u001b[43mproxies\u001b[49m\u001b[38;5;241;43m=\u001b[39;49m\u001b[43mproxies\u001b[49m\u001b[43m,\u001b[49m\n\u001b[0;32m    413\u001b[0m \u001b[43m        \u001b[49m\u001b[43mresume_download\u001b[49m\u001b[38;5;241;43m=\u001b[39;49m\u001b[43mresume_download\u001b[49m\u001b[43m,\u001b[49m\n\u001b[0;32m    414\u001b[0m \u001b[43m        \u001b[49m\u001b[43mtoken\u001b[49m\u001b[38;5;241;43m=\u001b[39;49m\u001b[43mtoken\u001b[49m\u001b[43m,\u001b[49m\n\u001b[0;32m    415\u001b[0m \u001b[43m        \u001b[49m\u001b[43mlocal_files_only\u001b[49m\u001b[38;5;241;43m=\u001b[39;49m\u001b[43mlocal_files_only\u001b[49m\u001b[43m,\u001b[49m\n\u001b[0;32m    416\u001b[0m \u001b[43m    \u001b[49m\u001b[43m)\u001b[49m\n\u001b[0;32m    417\u001b[0m \u001b[38;5;28;01mexcept\u001b[39;00m GatedRepoError \u001b[38;5;28;01mas\u001b[39;00m e:\n",
      "File \u001b[1;32m~\\miniconda3\\envs\\vc-llms-env\\lib\\site-packages\\huggingface_hub\\utils\\_validators.py:114\u001b[0m, in \u001b[0;36mvalidate_hf_hub_args.<locals>._inner_fn\u001b[1;34m(*args, **kwargs)\u001b[0m\n\u001b[0;32m    112\u001b[0m     kwargs \u001b[38;5;241m=\u001b[39m smoothly_deprecate_use_auth_token(fn_name\u001b[38;5;241m=\u001b[39mfn\u001b[38;5;241m.\u001b[39m\u001b[38;5;18m__name__\u001b[39m, has_token\u001b[38;5;241m=\u001b[39mhas_token, kwargs\u001b[38;5;241m=\u001b[39mkwargs)\n\u001b[1;32m--> 114\u001b[0m \u001b[38;5;28;01mreturn\u001b[39;00m fn(\u001b[38;5;241m*\u001b[39margs, \u001b[38;5;241m*\u001b[39m\u001b[38;5;241m*\u001b[39mkwargs)\n",
      "File \u001b[1;32m~\\miniconda3\\envs\\vc-llms-env\\lib\\site-packages\\huggingface_hub\\file_download.py:860\u001b[0m, in \u001b[0;36mhf_hub_download\u001b[1;34m(repo_id, filename, subfolder, repo_type, revision, library_name, library_version, cache_dir, local_dir, user_agent, force_download, proxies, etag_timeout, token, local_files_only, headers, endpoint, resume_download, force_filename, local_dir_use_symlinks)\u001b[0m\n\u001b[0;32m    859\u001b[0m \u001b[38;5;28;01melse\u001b[39;00m:\n\u001b[1;32m--> 860\u001b[0m     \u001b[38;5;28;01mreturn\u001b[39;00m \u001b[43m_hf_hub_download_to_cache_dir\u001b[49m\u001b[43m(\u001b[49m\n\u001b[0;32m    861\u001b[0m \u001b[43m        \u001b[49m\u001b[38;5;66;43;03m# Destination\u001b[39;49;00m\n\u001b[0;32m    862\u001b[0m \u001b[43m        \u001b[49m\u001b[43mcache_dir\u001b[49m\u001b[38;5;241;43m=\u001b[39;49m\u001b[43mcache_dir\u001b[49m\u001b[43m,\u001b[49m\n\u001b[0;32m    863\u001b[0m \u001b[43m        \u001b[49m\u001b[38;5;66;43;03m# File info\u001b[39;49;00m\n\u001b[0;32m    864\u001b[0m \u001b[43m        \u001b[49m\u001b[43mrepo_id\u001b[49m\u001b[38;5;241;43m=\u001b[39;49m\u001b[43mrepo_id\u001b[49m\u001b[43m,\u001b[49m\n\u001b[0;32m    865\u001b[0m \u001b[43m        \u001b[49m\u001b[43mfilename\u001b[49m\u001b[38;5;241;43m=\u001b[39;49m\u001b[43mfilename\u001b[49m\u001b[43m,\u001b[49m\n\u001b[0;32m    866\u001b[0m \u001b[43m        \u001b[49m\u001b[43mrepo_type\u001b[49m\u001b[38;5;241;43m=\u001b[39;49m\u001b[43mrepo_type\u001b[49m\u001b[43m,\u001b[49m\n\u001b[0;32m    867\u001b[0m \u001b[43m        \u001b[49m\u001b[43mrevision\u001b[49m\u001b[38;5;241;43m=\u001b[39;49m\u001b[43mrevision\u001b[49m\u001b[43m,\u001b[49m\n\u001b[0;32m    868\u001b[0m \u001b[43m        \u001b[49m\u001b[38;5;66;43;03m# HTTP info\u001b[39;49;00m\n\u001b[0;32m    869\u001b[0m \u001b[43m        \u001b[49m\u001b[43mendpoint\u001b[49m\u001b[38;5;241;43m=\u001b[39;49m\u001b[43mendpoint\u001b[49m\u001b[43m,\u001b[49m\n\u001b[0;32m    870\u001b[0m \u001b[43m        \u001b[49m\u001b[43metag_timeout\u001b[49m\u001b[38;5;241;43m=\u001b[39;49m\u001b[43metag_timeout\u001b[49m\u001b[43m,\u001b[49m\n\u001b[0;32m    871\u001b[0m \u001b[43m        \u001b[49m\u001b[43mheaders\u001b[49m\u001b[38;5;241;43m=\u001b[39;49m\u001b[43mhf_headers\u001b[49m\u001b[43m,\u001b[49m\n\u001b[0;32m    872\u001b[0m \u001b[43m        \u001b[49m\u001b[43mproxies\u001b[49m\u001b[38;5;241;43m=\u001b[39;49m\u001b[43mproxies\u001b[49m\u001b[43m,\u001b[49m\n\u001b[0;32m    873\u001b[0m \u001b[43m        \u001b[49m\u001b[43mtoken\u001b[49m\u001b[38;5;241;43m=\u001b[39;49m\u001b[43mtoken\u001b[49m\u001b[43m,\u001b[49m\n\u001b[0;32m    874\u001b[0m \u001b[43m        \u001b[49m\u001b[38;5;66;43;03m# Additional options\u001b[39;49;00m\n\u001b[0;32m    875\u001b[0m \u001b[43m        \u001b[49m\u001b[43mlocal_files_only\u001b[49m\u001b[38;5;241;43m=\u001b[39;49m\u001b[43mlocal_files_only\u001b[49m\u001b[43m,\u001b[49m\n\u001b[0;32m    876\u001b[0m \u001b[43m        \u001b[49m\u001b[43mforce_download\u001b[49m\u001b[38;5;241;43m=\u001b[39;49m\u001b[43mforce_download\u001b[49m\u001b[43m,\u001b[49m\n\u001b[0;32m    877\u001b[0m \u001b[43m    \u001b[49m\u001b[43m)\u001b[49m\n",
      "File \u001b[1;32m~\\miniconda3\\envs\\vc-llms-env\\lib\\site-packages\\huggingface_hub\\file_download.py:967\u001b[0m, in \u001b[0;36m_hf_hub_download_to_cache_dir\u001b[1;34m(cache_dir, repo_id, filename, repo_type, revision, endpoint, etag_timeout, headers, proxies, token, local_files_only, force_download)\u001b[0m\n\u001b[0;32m    966\u001b[0m     \u001b[38;5;66;03m# Otherwise, raise appropriate error\u001b[39;00m\n\u001b[1;32m--> 967\u001b[0m     \u001b[43m_raise_on_head_call_error\u001b[49m\u001b[43m(\u001b[49m\u001b[43mhead_call_error\u001b[49m\u001b[43m,\u001b[49m\u001b[43m \u001b[49m\u001b[43mforce_download\u001b[49m\u001b[43m,\u001b[49m\u001b[43m \u001b[49m\u001b[43mlocal_files_only\u001b[49m\u001b[43m)\u001b[49m\n\u001b[0;32m    969\u001b[0m \u001b[38;5;66;03m# From now on, etag, commit_hash, url and size are not None.\u001b[39;00m\n",
      "File \u001b[1;32m~\\miniconda3\\envs\\vc-llms-env\\lib\\site-packages\\huggingface_hub\\file_download.py:1485\u001b[0m, in \u001b[0;36m_raise_on_head_call_error\u001b[1;34m(head_call_error, force_download, local_files_only)\u001b[0m\n\u001b[0;32m   1483\u001b[0m \u001b[38;5;28;01melse\u001b[39;00m:\n\u001b[0;32m   1484\u001b[0m     \u001b[38;5;66;03m# Otherwise: most likely a connection issue or Hub downtime => let's warn the user\u001b[39;00m\n\u001b[1;32m-> 1485\u001b[0m     \u001b[38;5;28;01mraise\u001b[39;00m LocalEntryNotFoundError(\n\u001b[0;32m   1486\u001b[0m         \u001b[38;5;124m\"\u001b[39m\u001b[38;5;124mAn error happened while trying to locate the file on the Hub and we cannot find the requested files\u001b[39m\u001b[38;5;124m\"\u001b[39m\n\u001b[0;32m   1487\u001b[0m         \u001b[38;5;124m\"\u001b[39m\u001b[38;5;124m in the local cache. Please check your connection and try again or make sure your Internet connection\u001b[39m\u001b[38;5;124m\"\u001b[39m\n\u001b[0;32m   1488\u001b[0m         \u001b[38;5;124m\"\u001b[39m\u001b[38;5;124m is on.\u001b[39m\u001b[38;5;124m\"\u001b[39m\n\u001b[0;32m   1489\u001b[0m     ) \u001b[38;5;28;01mfrom\u001b[39;00m \u001b[38;5;21;01mhead_call_error\u001b[39;00m\n",
      "\u001b[1;31mLocalEntryNotFoundError\u001b[0m: An error happened while trying to locate the file on the Hub and we cannot find the requested files in the local cache. Please check your connection and try again or make sure your Internet connection is on.",
      "\nThe above exception was the direct cause of the following exception:\n",
      "\u001b[1;31mOSError\u001b[0m                                   Traceback (most recent call last)",
      "Cell \u001b[1;32mIn[7], line 6\u001b[0m\n\u001b[0;32m      1\u001b[0m \u001b[38;5;66;03m# blip_processor = BlipProcessor.from_pretrained(\"Salesforce/blip-image-captioning-base\", cache_dir=blip_local_directory)\u001b[39;00m\n\u001b[0;32m      2\u001b[0m \u001b[38;5;66;03m# blip_model = BlipForConditionalGeneration.from_pretrained(\"Salesforce/blip-image-captioning-base\", cache_dir=blip_local_directory)\u001b[39;00m\n\u001b[0;32m      4\u001b[0m blip2_processor \u001b[38;5;241m=\u001b[39m Blip2Processor\u001b[38;5;241m.\u001b[39mfrom_pretrained(model_name, \n\u001b[0;32m      5\u001b[0m                                                  cache_dir\u001b[38;5;241m=\u001b[39mblip2_local_directory)\n\u001b[1;32m----> 6\u001b[0m blip2_model \u001b[38;5;241m=\u001b[39m \u001b[43mBlip2ForConditionalGeneration\u001b[49m\u001b[38;5;241;43m.\u001b[39;49m\u001b[43mfrom_pretrained\u001b[49m\u001b[43m(\u001b[49m\u001b[43mmodel_name\u001b[49m\u001b[43m,\u001b[49m\u001b[43m \u001b[49m\n\u001b[0;32m      7\u001b[0m \u001b[43m                                                            \u001b[49m\u001b[43mcache_dir\u001b[49m\u001b[38;5;241;43m=\u001b[39;49m\u001b[43mblip2_local_directory\u001b[49m\u001b[43m,\u001b[49m\u001b[43m \u001b[49m\n\u001b[0;32m      8\u001b[0m \u001b[43m                                                            \u001b[49m\u001b[43mtorch_dtype\u001b[49m\u001b[38;5;241;43m=\u001b[39;49m\u001b[43mtorch\u001b[49m\u001b[38;5;241;43m.\u001b[39;49m\u001b[43mfloat16\u001b[49m\u001b[43m,\u001b[49m\u001b[43m \u001b[49m\n\u001b[0;32m      9\u001b[0m \u001b[43m                                                            \u001b[49m\u001b[43mlow_cpu_mem_usage\u001b[49m\u001b[38;5;241;43m=\u001b[39;49m\u001b[38;5;28;43;01mTrue\u001b[39;49;00m\u001b[43m)\u001b[49m\n\u001b[0;32m     10\u001b[0m blip2_model\u001b[38;5;241m.\u001b[39mto(\u001b[38;5;124m\"\u001b[39m\u001b[38;5;124mcuda:0\u001b[39m\u001b[38;5;124m\"\u001b[39m)\n",
      "File \u001b[1;32m~\\miniconda3\\envs\\vc-llms-env\\lib\\site-packages\\transformers\\modeling_utils.py:3944\u001b[0m, in \u001b[0;36mPreTrainedModel.from_pretrained\u001b[1;34m(cls, pretrained_model_name_or_path, config, cache_dir, ignore_mismatched_sizes, force_download, local_files_only, token, revision, use_safetensors, weights_only, *model_args, **kwargs)\u001b[0m\n\u001b[0;32m   3941\u001b[0m \u001b[38;5;66;03m# We'll need to download and cache each checkpoint shard if the checkpoint is sharded.\u001b[39;00m\n\u001b[0;32m   3942\u001b[0m \u001b[38;5;28;01mif\u001b[39;00m is_sharded:\n\u001b[0;32m   3943\u001b[0m     \u001b[38;5;66;03m# resolved_archive_file becomes a list of files that point to the different checkpoint shards in this case.\u001b[39;00m\n\u001b[1;32m-> 3944\u001b[0m     resolved_archive_file, sharded_metadata \u001b[38;5;241m=\u001b[39m \u001b[43mget_checkpoint_shard_files\u001b[49m\u001b[43m(\u001b[49m\n\u001b[0;32m   3945\u001b[0m \u001b[43m        \u001b[49m\u001b[43mpretrained_model_name_or_path\u001b[49m\u001b[43m,\u001b[49m\n\u001b[0;32m   3946\u001b[0m \u001b[43m        \u001b[49m\u001b[43mresolved_archive_file\u001b[49m\u001b[43m,\u001b[49m\n\u001b[0;32m   3947\u001b[0m \u001b[43m        \u001b[49m\u001b[43mcache_dir\u001b[49m\u001b[38;5;241;43m=\u001b[39;49m\u001b[43mcache_dir\u001b[49m\u001b[43m,\u001b[49m\n\u001b[0;32m   3948\u001b[0m \u001b[43m        \u001b[49m\u001b[43mforce_download\u001b[49m\u001b[38;5;241;43m=\u001b[39;49m\u001b[43mforce_download\u001b[49m\u001b[43m,\u001b[49m\n\u001b[0;32m   3949\u001b[0m \u001b[43m        \u001b[49m\u001b[43mproxies\u001b[49m\u001b[38;5;241;43m=\u001b[39;49m\u001b[43mproxies\u001b[49m\u001b[43m,\u001b[49m\n\u001b[0;32m   3950\u001b[0m \u001b[43m        \u001b[49m\u001b[43mresume_download\u001b[49m\u001b[38;5;241;43m=\u001b[39;49m\u001b[43mresume_download\u001b[49m\u001b[43m,\u001b[49m\n\u001b[0;32m   3951\u001b[0m \u001b[43m        \u001b[49m\u001b[43mlocal_files_only\u001b[49m\u001b[38;5;241;43m=\u001b[39;49m\u001b[43mlocal_files_only\u001b[49m\u001b[43m,\u001b[49m\n\u001b[0;32m   3952\u001b[0m \u001b[43m        \u001b[49m\u001b[43mtoken\u001b[49m\u001b[38;5;241;43m=\u001b[39;49m\u001b[43mtoken\u001b[49m\u001b[43m,\u001b[49m\n\u001b[0;32m   3953\u001b[0m \u001b[43m        \u001b[49m\u001b[43muser_agent\u001b[49m\u001b[38;5;241;43m=\u001b[39;49m\u001b[43muser_agent\u001b[49m\u001b[43m,\u001b[49m\n\u001b[0;32m   3954\u001b[0m \u001b[43m        \u001b[49m\u001b[43mrevision\u001b[49m\u001b[38;5;241;43m=\u001b[39;49m\u001b[43mrevision\u001b[49m\u001b[43m,\u001b[49m\n\u001b[0;32m   3955\u001b[0m \u001b[43m        \u001b[49m\u001b[43msubfolder\u001b[49m\u001b[38;5;241;43m=\u001b[39;49m\u001b[43msubfolder\u001b[49m\u001b[43m,\u001b[49m\n\u001b[0;32m   3956\u001b[0m \u001b[43m        \u001b[49m\u001b[43m_commit_hash\u001b[49m\u001b[38;5;241;43m=\u001b[39;49m\u001b[43mcommit_hash\u001b[49m\u001b[43m,\u001b[49m\n\u001b[0;32m   3957\u001b[0m \u001b[43m    \u001b[49m\u001b[43m)\u001b[49m\n\u001b[0;32m   3959\u001b[0m \u001b[38;5;28;01mif\u001b[39;00m (\n\u001b[0;32m   3960\u001b[0m     is_safetensors_available()\n\u001b[0;32m   3961\u001b[0m     \u001b[38;5;129;01mand\u001b[39;00m \u001b[38;5;28misinstance\u001b[39m(resolved_archive_file, \u001b[38;5;28mstr\u001b[39m)\n\u001b[0;32m   3962\u001b[0m     \u001b[38;5;129;01mand\u001b[39;00m resolved_archive_file\u001b[38;5;241m.\u001b[39mendswith(\u001b[38;5;124m\"\u001b[39m\u001b[38;5;124m.safetensors\u001b[39m\u001b[38;5;124m\"\u001b[39m)\n\u001b[0;32m   3963\u001b[0m ):\n\u001b[0;32m   3964\u001b[0m     \u001b[38;5;28;01mwith\u001b[39;00m safe_open(resolved_archive_file, framework\u001b[38;5;241m=\u001b[39m\u001b[38;5;124m\"\u001b[39m\u001b[38;5;124mpt\u001b[39m\u001b[38;5;124m\"\u001b[39m) \u001b[38;5;28;01mas\u001b[39;00m f:\n",
      "File \u001b[1;32m~\\miniconda3\\envs\\vc-llms-env\\lib\\site-packages\\transformers\\utils\\hub.py:1098\u001b[0m, in \u001b[0;36mget_checkpoint_shard_files\u001b[1;34m(pretrained_model_name_or_path, index_filename, cache_dir, force_download, proxies, resume_download, local_files_only, token, user_agent, revision, subfolder, _commit_hash, **deprecated_kwargs)\u001b[0m\n\u001b[0;32m   1095\u001b[0m \u001b[38;5;28;01mfor\u001b[39;00m shard_filename \u001b[38;5;129;01min\u001b[39;00m tqdm(shard_filenames, desc\u001b[38;5;241m=\u001b[39m\u001b[38;5;124m\"\u001b[39m\u001b[38;5;124mDownloading shards\u001b[39m\u001b[38;5;124m\"\u001b[39m, disable\u001b[38;5;241m=\u001b[39m\u001b[38;5;129;01mnot\u001b[39;00m show_progress_bar):\n\u001b[0;32m   1096\u001b[0m     \u001b[38;5;28;01mtry\u001b[39;00m:\n\u001b[0;32m   1097\u001b[0m         \u001b[38;5;66;03m# Load from URL\u001b[39;00m\n\u001b[1;32m-> 1098\u001b[0m         cached_filename \u001b[38;5;241m=\u001b[39m \u001b[43mcached_file\u001b[49m\u001b[43m(\u001b[49m\n\u001b[0;32m   1099\u001b[0m \u001b[43m            \u001b[49m\u001b[43mpretrained_model_name_or_path\u001b[49m\u001b[43m,\u001b[49m\n\u001b[0;32m   1100\u001b[0m \u001b[43m            \u001b[49m\u001b[43mshard_filename\u001b[49m\u001b[43m,\u001b[49m\n\u001b[0;32m   1101\u001b[0m \u001b[43m            \u001b[49m\u001b[43mcache_dir\u001b[49m\u001b[38;5;241;43m=\u001b[39;49m\u001b[43mcache_dir\u001b[49m\u001b[43m,\u001b[49m\n\u001b[0;32m   1102\u001b[0m \u001b[43m            \u001b[49m\u001b[43mforce_download\u001b[49m\u001b[38;5;241;43m=\u001b[39;49m\u001b[43mforce_download\u001b[49m\u001b[43m,\u001b[49m\n\u001b[0;32m   1103\u001b[0m \u001b[43m            \u001b[49m\u001b[43mproxies\u001b[49m\u001b[38;5;241;43m=\u001b[39;49m\u001b[43mproxies\u001b[49m\u001b[43m,\u001b[49m\n\u001b[0;32m   1104\u001b[0m \u001b[43m            \u001b[49m\u001b[43mresume_download\u001b[49m\u001b[38;5;241;43m=\u001b[39;49m\u001b[43mresume_download\u001b[49m\u001b[43m,\u001b[49m\n\u001b[0;32m   1105\u001b[0m \u001b[43m            \u001b[49m\u001b[43mlocal_files_only\u001b[49m\u001b[38;5;241;43m=\u001b[39;49m\u001b[43mlocal_files_only\u001b[49m\u001b[43m,\u001b[49m\n\u001b[0;32m   1106\u001b[0m \u001b[43m            \u001b[49m\u001b[43mtoken\u001b[49m\u001b[38;5;241;43m=\u001b[39;49m\u001b[43mtoken\u001b[49m\u001b[43m,\u001b[49m\n\u001b[0;32m   1107\u001b[0m \u001b[43m            \u001b[49m\u001b[43muser_agent\u001b[49m\u001b[38;5;241;43m=\u001b[39;49m\u001b[43muser_agent\u001b[49m\u001b[43m,\u001b[49m\n\u001b[0;32m   1108\u001b[0m \u001b[43m            \u001b[49m\u001b[43mrevision\u001b[49m\u001b[38;5;241;43m=\u001b[39;49m\u001b[43mrevision\u001b[49m\u001b[43m,\u001b[49m\n\u001b[0;32m   1109\u001b[0m \u001b[43m            \u001b[49m\u001b[43msubfolder\u001b[49m\u001b[38;5;241;43m=\u001b[39;49m\u001b[43msubfolder\u001b[49m\u001b[43m,\u001b[49m\n\u001b[0;32m   1110\u001b[0m \u001b[43m            \u001b[49m\u001b[43m_commit_hash\u001b[49m\u001b[38;5;241;43m=\u001b[39;49m\u001b[43m_commit_hash\u001b[49m\u001b[43m,\u001b[49m\n\u001b[0;32m   1111\u001b[0m \u001b[43m        \u001b[49m\u001b[43m)\u001b[49m\n\u001b[0;32m   1112\u001b[0m     \u001b[38;5;66;03m# We have already dealt with RepositoryNotFoundError and RevisionNotFoundError when getting the index, so\u001b[39;00m\n\u001b[0;32m   1113\u001b[0m     \u001b[38;5;66;03m# we don't have to catch them here.\u001b[39;00m\n\u001b[0;32m   1114\u001b[0m     \u001b[38;5;28;01mexcept\u001b[39;00m EntryNotFoundError:\n",
      "File \u001b[1;32m~\\miniconda3\\envs\\vc-llms-env\\lib\\site-packages\\transformers\\utils\\hub.py:446\u001b[0m, in \u001b[0;36mcached_file\u001b[1;34m(path_or_repo_id, filename, cache_dir, force_download, resume_download, proxies, token, revision, local_files_only, subfolder, repo_type, user_agent, _raise_exceptions_for_gated_repo, _raise_exceptions_for_missing_entries, _raise_exceptions_for_connection_errors, _commit_hash, **deprecated_kwargs)\u001b[0m\n\u001b[0;32m    440\u001b[0m     \u001b[38;5;28;01mif\u001b[39;00m (\n\u001b[0;32m    441\u001b[0m         resolved_file \u001b[38;5;129;01mis\u001b[39;00m \u001b[38;5;129;01mnot\u001b[39;00m \u001b[38;5;28;01mNone\u001b[39;00m\n\u001b[0;32m    442\u001b[0m         \u001b[38;5;129;01mor\u001b[39;00m \u001b[38;5;129;01mnot\u001b[39;00m _raise_exceptions_for_missing_entries\n\u001b[0;32m    443\u001b[0m         \u001b[38;5;129;01mor\u001b[39;00m \u001b[38;5;129;01mnot\u001b[39;00m _raise_exceptions_for_connection_errors\n\u001b[0;32m    444\u001b[0m     ):\n\u001b[0;32m    445\u001b[0m         \u001b[38;5;28;01mreturn\u001b[39;00m resolved_file\n\u001b[1;32m--> 446\u001b[0m     \u001b[38;5;28;01mraise\u001b[39;00m \u001b[38;5;167;01mEnvironmentError\u001b[39;00m(\n\u001b[0;32m    447\u001b[0m         \u001b[38;5;124mf\u001b[39m\u001b[38;5;124m\"\u001b[39m\u001b[38;5;124mWe couldn\u001b[39m\u001b[38;5;124m'\u001b[39m\u001b[38;5;124mt connect to \u001b[39m\u001b[38;5;124m'\u001b[39m\u001b[38;5;132;01m{\u001b[39;00mHUGGINGFACE_CO_RESOLVE_ENDPOINT\u001b[38;5;132;01m}\u001b[39;00m\u001b[38;5;124m'\u001b[39m\u001b[38;5;124m to load this file, couldn\u001b[39m\u001b[38;5;124m'\u001b[39m\u001b[38;5;124mt find it in the\u001b[39m\u001b[38;5;124m\"\u001b[39m\n\u001b[0;32m    448\u001b[0m         \u001b[38;5;124mf\u001b[39m\u001b[38;5;124m\"\u001b[39m\u001b[38;5;124m cached files and it looks like \u001b[39m\u001b[38;5;132;01m{\u001b[39;00mpath_or_repo_id\u001b[38;5;132;01m}\u001b[39;00m\u001b[38;5;124m is not the path to a directory containing a file named\u001b[39m\u001b[38;5;124m\"\u001b[39m\n\u001b[0;32m    449\u001b[0m         \u001b[38;5;124mf\u001b[39m\u001b[38;5;124m\"\u001b[39m\u001b[38;5;124m \u001b[39m\u001b[38;5;132;01m{\u001b[39;00mfull_filename\u001b[38;5;132;01m}\u001b[39;00m\u001b[38;5;124m.\u001b[39m\u001b[38;5;130;01m\\n\u001b[39;00m\u001b[38;5;124mCheckout your internet connection or see how to run the library in offline mode at\u001b[39m\u001b[38;5;124m\"\u001b[39m\n\u001b[0;32m    450\u001b[0m         \u001b[38;5;124m\"\u001b[39m\u001b[38;5;124m \u001b[39m\u001b[38;5;124m'\u001b[39m\u001b[38;5;124mhttps://huggingface.co/docs/transformers/installation#offline-mode\u001b[39m\u001b[38;5;124m'\u001b[39m\u001b[38;5;124m.\u001b[39m\u001b[38;5;124m\"\u001b[39m\n\u001b[0;32m    451\u001b[0m     ) \u001b[38;5;28;01mfrom\u001b[39;00m \u001b[38;5;21;01me\u001b[39;00m\n\u001b[0;32m    452\u001b[0m \u001b[38;5;28;01mexcept\u001b[39;00m EntryNotFoundError \u001b[38;5;28;01mas\u001b[39;00m e:\n\u001b[0;32m    453\u001b[0m     \u001b[38;5;28;01mif\u001b[39;00m \u001b[38;5;129;01mnot\u001b[39;00m _raise_exceptions_for_missing_entries:\n",
      "\u001b[1;31mOSError\u001b[0m: We couldn't connect to 'https://huggingface.co' to load this file, couldn't find it in the cached files and it looks like Salesforce/blip2-opt-2.7b is not the path to a directory containing a file named model-00002-of-00002.safetensors.\nCheckout your internet connection or see how to run the library in offline mode at 'https://huggingface.co/docs/transformers/installation#offline-mode'."
     ]
    }
   ],
   "source": [
    "# blip_processor = BlipProcessor.from_pretrained(\"Salesforce/blip-image-captioning-base\", cache_dir=blip_local_directory)\n",
    "# blip_model = BlipForConditionalGeneration.from_pretrained(\"Salesforce/blip-image-captioning-base\", cache_dir=blip_local_directory)\n",
    "\n",
    "blip2_processor = Blip2Processor.from_pretrained(model_name, \n",
    "                                                 cache_dir=blip2_local_directory)\n",
    "blip2_model = Blip2ForConditionalGeneration.from_pretrained(model_name, \n",
    "                                                            cache_dir=blip2_local_directory, \n",
    "                                                            torch_dtype=torch.float16, \n",
    "                                                            low_cpu_mem_usage=True)\n",
    "blip2_model.to(\"cuda:0\")"
   ]
  },
  {
   "cell_type": "code",
   "execution_count": 8,
   "id": "6c76a038",
   "metadata": {},
   "outputs": [],
   "source": [
    "bart_local_directory = \"./huggingface_models/bart_large_cnn_model\""
   ]
  },
  {
   "cell_type": "code",
   "execution_count": 9,
   "id": "85cfce98",
   "metadata": {},
   "outputs": [],
   "source": [
    "# Load the model and tokenizer from the local directory\n",
    "bart_model = BartForConditionalGeneration.from_pretrained(bart_local_directory)\n",
    "bart_tokenizer = BartTokenizer.from_pretrained(bart_local_directory)"
   ]
  },
  {
   "cell_type": "code",
   "execution_count": null,
   "id": "3860a87b",
   "metadata": {},
   "outputs": [],
   "source": [
    "min_length = 24\n",
    "max_length = 72\n",
    "beam_amount = 5"
   ]
  },
  {
   "cell_type": "code",
   "execution_count": null,
   "id": "e762d4c4-0ab4-443c-a275-1a3e327fd986",
   "metadata": {},
   "outputs": [],
   "source": [
    "def caption_image(image_path, model=blip2_model, processor=blip2_processor):\n",
    "    image = Image.open(image_path).convert(\"RGB\")\n",
    "    inputs = processor(image, return_tensors=\"pt\").to(\"cuda:0\", torch.float16)\n",
    "    output = model.generate(**inputs, num_beams=beam_amount, min_length=min_length, max_length=max_length)\n",
    "    caption = processor.batch_decode(output, skip_special_tokens=True)[0].strip()\n",
    "    return caption"
   ]
  },
  {
   "cell_type": "code",
   "execution_count": null,
   "id": "282e8c47-72a0-47b7-a35c-f75083083ac4",
   "metadata": {},
   "outputs": [],
   "source": [
    "image_path = output_frames_path + \"/\"\n",
    "cap = caption_image(image_path)\n",
    "print(cap)"
   ]
  },
  {
   "cell_type": "code",
   "execution_count": 15,
   "id": "5b71f71e",
   "metadata": {},
   "outputs": [],
   "source": [
    "def summarize_all_cap(model, tokenizer, prompt):\n",
    "    \n",
    "    summarizer = pipeline(\"summarization\", model=model, tokenizer=tokenizer)\n",
    "    summary = summarizer(prompt, max_length=1024, min_length=10, do_sample=False)\n",
    "\n",
    "    return summary[0]['summary_text']"
   ]
  },
  {
   "cell_type": "code",
   "execution_count": 19,
   "id": "7b0a5c72-6441-446c-be96-fb236e99414d",
   "metadata": {},
   "outputs": [],
   "source": [
    "def caption_video(video_path, \n",
    "                  output_frames_path=\"video_frames\", \n",
    "                  interval=5):\n",
    "\n",
    "    all_cap = []\n",
    "    \n",
    "    # Extract all frames\n",
    "    extract_frames_moviepy(video_path, output_frames_path)\n",
    "\n",
    "    # Get & Sort all frames\n",
    "    frames = os.listdir(output_frames_path)\n",
    "    sorted_frames = sorted(frames, key=lambda x: int(x.split('_')[1].split('.')[0]))\n",
    "\n",
    "    for frame in sorted_frames[0:-1:interval]:\n",
    "        image_path = output_frames_path + '/' + frame\n",
    "        cap = caption_image(image_path)\n",
    "        all_cap.append(cap)\n",
    "\n",
    "    # Combine all captions into a single text\n",
    "    # all_cap_str = '\\n------------------------------------\\n'.join(all_cap)\n",
    "    all_cap_str = \" \".join(all_cap)\n",
    "\n",
    "    # Generate a summary\n",
    "    # Tell me only what happen in the video\n",
    "    # summary_prompt = \"the following are seperate descriptions of successive frames of a video\" + \\\n",
    "    # \"I want you to take all of these descriptions and return a reasonable summary for the corresponding video.\" + \\\n",
    "    # \"I want you to write this summary such as a human writer.\" + \\\n",
    "    # \"\\n Here are the seperate descriptions : \\n \" + all_cap_str\n",
    "\n",
    "    # summary = summarize_all_cap(model=bart_model, tokenizer=bart_tokenizer, prompt=all_cap_str)\n",
    "    \n",
    "    # summary = answer(summary_prompt)\n",
    "    \n",
    "    # return summary\n",
    "    return all_cap"
   ]
  },
  {
   "cell_type": "markdown",
   "id": "68353b31",
   "metadata": {},
   "source": [
    "###  Summarize the Captions to Get a Video Caption"
   ]
  },
  {
   "cell_type": "code",
   "execution_count": 21,
   "id": "5a3128dd",
   "metadata": {
    "scrolled": true
   },
   "outputs": [
    {
     "name": "stdout",
     "output_type": "stream",
     "text": [
      "iteration 0 ,  Frame 0 saved\n",
      "iteration 1 ,  Frame 10 saved\n",
      "iteration 2 ,  Frame 20 saved\n",
      "iteration 3 ,  Frame 30 saved\n",
      "iteration 4 ,  Frame 40 saved\n",
      "iteration 5 ,  Frame 50 saved\n",
      "iteration 6 ,  Frame 60 saved\n",
      "iteration 7 ,  Frame 70 saved\n",
      "iteration 8 ,  Frame 80 saved\n",
      "iteration 9 ,  Frame 90 saved\n",
      "iteration 10 ,  Frame 100 saved\n",
      "iteration 11 ,  Frame 110 saved\n",
      "iteration 12 ,  Frame 120 saved\n",
      "iteration 13 ,  Frame 130 saved\n",
      "iteration 14 ,  Frame 140 saved\n",
      "iteration 15 ,  Frame 150 saved\n",
      "iteration 16 ,  Frame 160 saved\n",
      "iteration 17 ,  Frame 170 saved\n",
      "iteration 18 ,  Frame 180 saved\n",
      "iteration 19 ,  Frame 190 saved\n",
      "iteration 20 ,  Frame 200 saved\n",
      "iteration 21 ,  Frame 210 saved\n",
      "iteration 22 ,  Frame 220 saved\n",
      "iteration 23 ,  Frame 230 saved\n",
      "iteration 24 ,  Frame 240 saved\n",
      "iteration 25 ,  Frame 250 saved\n",
      "iteration 26 ,  Frame 260 saved\n",
      "iteration 27 ,  Frame 270 saved\n",
      "iteration 28 ,  Frame 280 saved\n",
      "iteration 29 ,  Frame 290 saved\n",
      "iteration 30 ,  Frame 300 saved\n",
      "iteration 31 ,  Frame 310 saved\n",
      "iteration 32 ,  Frame 320 saved\n",
      "iteration 33 ,  Frame 330 saved\n",
      "iteration 34 ,  Frame 340 saved\n",
      "iteration 35 ,  Frame 350 saved\n",
      "iteration 36 ,  Frame 360 saved\n",
      "iteration 37 ,  Frame 370 saved\n",
      "iteration 38 ,  Frame 380 saved\n",
      "iteration 39 ,  Frame 390 saved\n",
      "iteration 40 ,  Frame 400 saved\n",
      "iteration 41 ,  Frame 410 saved\n",
      "iteration 42 ,  Frame 420 saved\n",
      "iteration 43 ,  Frame 430 saved\n",
      "iteration 44 ,  Frame 440 saved\n",
      "iteration 45 ,  Frame 450 saved\n",
      "iteration 46 ,  Frame 460 saved\n",
      "iteration 47 ,  Frame 470 saved\n",
      "iteration 48 ,  Frame 480 saved\n",
      "iteration 49 ,  Frame 490 saved\n",
      "iteration 50 ,  Frame 500 saved\n",
      "iteration 51 ,  Frame 510 saved\n",
      "iteration 52 ,  Frame 520 saved\n",
      "iteration 53 ,  Frame 530 saved\n",
      "iteration 54 ,  Frame 540 saved\n",
      "iteration 55 ,  Frame 550 saved\n",
      "iteration 56 ,  Frame 560 saved\n",
      "iteration 57 ,  Frame 570 saved\n",
      "iteration 58 ,  Frame 580 saved\n",
      "iteration 59 ,  Frame 590 saved\n",
      "iteration 60 ,  Frame 600 saved\n",
      "iteration 61 ,  Frame 610 saved\n",
      "iteration 62 ,  Frame 620 saved\n",
      "iteration 63 ,  Frame 630 saved\n",
      "iteration 64 ,  Frame 640 saved\n",
      "iteration 65 ,  Frame 650 saved\n",
      "iteration 66 ,  Frame 660 saved\n",
      "iteration 67 ,  Frame 670 saved\n",
      "iteration 68 ,  Frame 680 saved\n",
      "iteration 69 ,  Frame 690 saved\n",
      "iteration 70 ,  Frame 700 saved\n",
      "iteration 71 ,  Frame 710 saved\n",
      "iteration 72 ,  Frame 720 saved\n",
      "iteration 73 ,  Frame 730 saved\n",
      "iteration 74 ,  Frame 740 saved\n",
      "iteration 75 ,  Frame 750 saved\n",
      "iteration 76 ,  Frame 760 saved\n",
      "iteration 77 ,  Frame 770 saved\n",
      "iteration 78 ,  Frame 780 saved\n",
      "iteration 79 ,  Frame 790 saved\n",
      "iteration 80 ,  Frame 800 saved\n",
      "iteration 81 ,  Frame 810 saved\n",
      "iteration 82 ,  Frame 820 saved\n",
      "iteration 83 ,  Frame 830 saved\n",
      "iteration 84 ,  Frame 840 saved\n",
      "iteration 85 ,  Frame 850 saved\n",
      "iteration 86 ,  Frame 860 saved\n",
      "iteration 87 ,  Frame 870 saved\n",
      "iteration 88 ,  Frame 880 saved\n",
      "iteration 89 ,  Frame 890 saved\n",
      "iteration 90 ,  Frame 900 saved\n",
      "iteration 91 ,  Frame 910 saved\n",
      "iteration 92 ,  Frame 920 saved\n",
      "iteration 93 ,  Frame 930 saved\n",
      "iteration 94 ,  Frame 940 saved\n",
      "iteration 95 ,  Frame 950 saved\n",
      "iteration 96 ,  Frame 960 saved\n",
      "iteration 97 ,  Frame 970 saved\n",
      "iteration 98 ,  Frame 980 saved\n",
      "iteration 99 ,  Frame 990 saved\n",
      "iteration 100 ,  Frame 1000 saved\n",
      "iteration 101 ,  Frame 1010 saved\n",
      "iteration 102 ,  Frame 1020 saved\n",
      "iteration 103 ,  Frame 1030 saved\n",
      "iteration 104 ,  Frame 1040 saved\n",
      "iteration 105 ,  Frame 1050 saved\n",
      "iteration 106 ,  Frame 1060 saved\n",
      "iteration 107 ,  Frame 1070 saved\n",
      "iteration 108 ,  Frame 1080 saved\n",
      "iteration 109 ,  Frame 1090 saved\n",
      "iteration 110 ,  Frame 1100 saved\n",
      "iteration 111 ,  Frame 1110 saved\n",
      "iteration 112 ,  Frame 1120 saved\n",
      "iteration 113 ,  Frame 1130 saved\n",
      "iteration 114 ,  Frame 1140 saved\n",
      "iteration 115 ,  Frame 1150 saved\n",
      "iteration 116 ,  Frame 1160 saved\n",
      "iteration 117 ,  Frame 1170 saved\n",
      "iteration 118 ,  Frame 1180 saved\n",
      "iteration 119 ,  Frame 1190 saved\n",
      "iteration 120 ,  Frame 1200 saved\n",
      "iteration 121 ,  Frame 1210 saved\n",
      "iteration 122 ,  Frame 1220 saved\n",
      "iteration 123 ,  Frame 1230 saved\n",
      "iteration 124 ,  Frame 1240 saved\n",
      "iteration 125 ,  Frame 1250 saved\n",
      "iteration 126 ,  Frame 1260 saved\n",
      "iteration 127 ,  Frame 1270 saved\n",
      "iteration 128 ,  Frame 1280 saved\n",
      "iteration 129 ,  Frame 1290 saved\n",
      "iteration 130 ,  Frame 1300 saved\n",
      "iteration 131 ,  Frame 1310 saved\n",
      "iteration 132 ,  Frame 1320 saved\n",
      "iteration 133 ,  Frame 1330 saved\n",
      "iteration 134 ,  Frame 1340 saved\n",
      "iteration 135 ,  Frame 1350 saved\n",
      "iteration 136 ,  Frame 1360 saved\n",
      "iteration 137 ,  Frame 1370 saved\n",
      "iteration 138 ,  Frame 1380 saved\n",
      "iteration 139 ,  Frame 1390 saved\n",
      "iteration 140 ,  Frame 1400 saved\n",
      "iteration 141 ,  Frame 1410 saved\n",
      "iteration 142 ,  Frame 1420 saved\n",
      "iteration 143 ,  Frame 1430 saved\n",
      "iteration 144 ,  Frame 1440 saved\n",
      "iteration 145 ,  Frame 1450 saved\n",
      "iteration 146 ,  Frame 1460 saved\n",
      "iteration 147 ,  Frame 1470 saved\n",
      "iteration 148 ,  Frame 1480 saved\n",
      "iteration 149 ,  Frame 1490 saved\n",
      "iteration 150 ,  Frame 1500 saved\n",
      "iteration 151 ,  Frame 1510 saved\n",
      "iteration 152 ,  Frame 1520 saved\n",
      "iteration 153 ,  Frame 1530 saved\n",
      "iteration 154 ,  Frame 1540 saved\n",
      "iteration 155 ,  Frame 1550 saved\n",
      "iteration 156 ,  Frame 1560 saved\n",
      "iteration 157 ,  Frame 1570 saved\n",
      "iteration 158 ,  Frame 1580 saved\n",
      "iteration 159 ,  Frame 1590 saved\n",
      "iteration 160 ,  Frame 1600 saved\n",
      "iteration 161 ,  Frame 1610 saved\n",
      "iteration 162 ,  Frame 1620 saved\n",
      "iteration 163 ,  Frame 1630 saved\n",
      "iteration 164 ,  Frame 1640 saved\n",
      "iteration 165 ,  Frame 1650 saved\n",
      "iteration 166 ,  Frame 1660 saved\n",
      "iteration 167 ,  Frame 1670 saved\n",
      "iteration 168 ,  Frame 1680 saved\n",
      "iteration 169 ,  Frame 1690 saved\n",
      "iteration 170 ,  Frame 1700 saved\n",
      "iteration 171 ,  Frame 1710 saved\n",
      "iteration 172 ,  Frame 1720 saved\n",
      "iteration 173 ,  Frame 1730 saved\n",
      "iteration 174 ,  Frame 1740 saved\n",
      "iteration 175 ,  Frame 1750 saved\n",
      "iteration 176 ,  Frame 1760 saved\n",
      "iteration 177 ,  Frame 1770 saved\n",
      "iteration 178 ,  Frame 1780 saved\n",
      "iteration 179 ,  Frame 1790 saved\n",
      "iteration 180 ,  Frame 1800 saved\n",
      "iteration 181 ,  Frame 1810 saved\n",
      "iteration 182 ,  Frame 1820 saved\n",
      "iteration 183 ,  Frame 1830 saved\n",
      "iteration 184 ,  Frame 1840 saved\n",
      "iteration 185 ,  Frame 1850 saved\n",
      "iteration 186 ,  Frame 1860 saved\n",
      "iteration 187 ,  Frame 1870 saved\n",
      "iteration 188 ,  Frame 1880 saved\n",
      "iteration 189 ,  Frame 1890 saved\n",
      "iteration 190 ,  Frame 1900 saved\n",
      "iteration 191 ,  Frame 1910 saved\n",
      "iteration 192 ,  Frame 1920 saved\n",
      "iteration 193 ,  Frame 1930 saved\n",
      "iteration 194 ,  Frame 1940 saved\n",
      "iteration 195 ,  Frame 1950 saved\n",
      "iteration 196 ,  Frame 1960 saved\n",
      "iteration 197 ,  Frame 1970 saved\n",
      "iteration 198 ,  Frame 1980 saved\n",
      "iteration 199 ,  Frame 1990 saved\n",
      "iteration 200 ,  Frame 2000 saved\n",
      "iteration 201 ,  Frame 2010 saved\n",
      "iteration 202 ,  Frame 2020 saved\n",
      "iteration 203 ,  Frame 2030 saved\n",
      "iteration 204 ,  Frame 2040 saved\n",
      "iteration 205 ,  Frame 2050 saved\n",
      "iteration 206 ,  Frame 2060 saved\n",
      "iteration 207 ,  Frame 2070 saved\n",
      "iteration 208 ,  Frame 2080 saved\n",
      "iteration 209 ,  Frame 2090 saved\n",
      "iteration 210 ,  Frame 2100 saved\n",
      "iteration 211 ,  Frame 2110 saved\n",
      "iteration 212 ,  Frame 2120 saved\n",
      "iteration 213 ,  Frame 2130 saved\n",
      "iteration 214 ,  Frame 2140 saved\n",
      "iteration 215 ,  Frame 2150 saved\n",
      "iteration 216 ,  Frame 2160 saved\n",
      "iteration 217 ,  Frame 2170 saved\n",
      "iteration 218 ,  Frame 2180 saved\n",
      "iteration 219 ,  Frame 2190 saved\n",
      "iteration 220 ,  Frame 2200 saved\n",
      "iteration 221 ,  Frame 2210 saved\n",
      "iteration 222 ,  Frame 2220 saved\n",
      "########## Frames extraction completed ##########\n",
      "['a man sleeping on a bench in the park', 'a man sleeping on a bench in the park', 'a man sleeping on a bench in the park', 'a man sleeping on a bench in the park', 'a man sleeping on a bench in the park', 'a man in a suit and tie standing in front of trees', 'a man in a suit and tie standing in front of trees', 'a man sleeping on a bench in the park', 'a man in a suit and tie standing in front of a tree', 'a man in a suit and tie standing in front of trees', 'a man in a suit and tie standing in front of a tree', 'a man is sleeping on a bench in the park', 'a man is sitting on the ground with his head down', 'a man sitting on the ground in front of a tree', 'a man in a suit and tie standing in front of trees', 'a man in a suit holding a bag of food', 'a man with a green jacket and a green jacket', 'a man with a beard and a green jacket', 'a man in a suit holding up a bunch of money', 'a man in a suit and tie is talking to another man in a suit', 'a man in a suit holding a piece of paper', 'a man in a suit holding a piece of paper', 'a man in a suit and tie holding a cigarette', 'a man sitting on the ground in front of a tree', 'a man in a suit holding a bag of food', 'a person holding a bag of money and a plastic bag of coins', 'a person holding a bag of food in their hands', 'a man sitting on a bench in the park', 'a man sitting on a bench in the park', 'a man sitting on a bench in the park', 'a person holding a coin in their hand', 'a man in a green jacket is holding a cell', 'a man in a suit and tie standing in front of trees', 'a man sitting on a bench eating food', 'a man sitting on a bench with a book', 'a person is putting tickets to someone', 'a person holding a ticket in their hand', 'a man in a suit and tie standing in front of trees', 'a man in a suit and tie standing in front of trees', 'a man in a suit and tie standing in front of trees', 'a man is sitting on a bench in the park', 'a man is eating food in the park', 'a man in a green jacket is eating food', 'a man in a suit and tie standing in front of trees', 'a man is sitting on a bench in the park']\n"
     ]
    }
   ],
   "source": [
    "# video_path = \"\"\n",
    "video_path = \"../DatasetDivided/1-EasyCategory/EC_v_11.mp4\"\n",
    "# video_caption = caption_video(video_path)\n",
    "captions = caption_video(video_path)\n",
    "# print(video_caption)\n",
    "print(captions)"
   ]
  },
  {
   "cell_type": "code",
   "execution_count": 23,
   "id": "5ebc9d18-8881-4975-ab1c-3c0bb28792a1",
   "metadata": {},
   "outputs": [
    {
     "name": "stdout",
     "output_type": "stream",
     "text": [
      "['a man sleeping on a bench in the park', 'a man in a suit and tie standing in front of trees', 'a man in a suit and tie standing in front of a tree', 'a man is sleeping on a bench in the park', 'a man is sitting on the ground with his head down', 'a man sitting on the ground in front of a tree', 'a man in a suit holding a bag of food', 'a man with a green jacket and a green jacket', 'a man with a beard and a green jacket', 'a man in a suit holding up a bunch of money', 'a man in a suit and tie is talking to another man in a suit', 'a man in a suit holding a piece of paper', 'a man in a suit and tie holding a cigarette', 'a person holding a bag of money and a plastic bag of coins', 'a person holding a bag of food in their hands', 'a man sitting on a bench in the park', 'a person holding a coin in their hand', 'a man in a green jacket is holding a cell', 'a man sitting on a bench eating food', 'a man sitting on a bench with a book', 'a person is putting tickets to someone', 'a person holding a ticket in their hand', 'a man is sitting on a bench in the park', 'a man is eating food in the park', 'a man in a green jacket is eating food']\n"
     ]
    }
   ],
   "source": [
    "liste_sans_doublons = list(dict.fromkeys(captions))\n",
    "print(liste_sans_doublons)"
   ]
  },
  {
   "cell_type": "markdown",
   "id": "8298eda4-ac76-4346-976f-206c80e8c861",
   "metadata": {},
   "source": [
    "### Labeling all videos in this dataset"
   ]
  },
  {
   "cell_type": "markdown",
   "id": "1bad3996",
   "metadata": {},
   "source": [
    "#### 1- Easy Category"
   ]
  },
  {
   "cell_type": "code",
   "execution_count": 36,
   "id": "81978c1a-8714-410a-bad9-98dd2aa6817c",
   "metadata": {},
   "outputs": [],
   "source": [
    "category_name = \"1-EasyCategory\"\n",
    "category_path = \"../DatasetDivided\" + \"/\" + category_name"
   ]
  },
  {
   "cell_type": "code",
   "execution_count": null,
   "id": "981aa96f-3d8e-4e52-a020-789c782cfe95",
   "metadata": {},
   "outputs": [
    {
     "name": "stdout",
     "output_type": "stream",
     "text": [
      "['EC_v_1.mp4', 'EC_v_10.mp4', 'EC_v_11.mp4', 'EC_v_2.mp4', 'EC_v_3.mp4', 'EC_v_4.mp4', 'EC_v_5.mp4', 'EC_v_6.mp4', 'EC_v_7.mp4', 'EC_v_8.mp4', 'EC_v_9.mp4']\n",
      "11\n"
     ]
    }
   ],
   "source": [
    "videos = os.listdir(category_path)\n",
    "print(videos)\n",
    "print(len(videos))"
   ]
  },
  {
   "cell_type": "code",
   "execution_count": null,
   "id": "86ca1889",
   "metadata": {},
   "outputs": [],
   "source": [
    "if not os.path.exists(\"labels\"):\n",
    "    os.makedirs(\"labels\")\n",
    "# Save the updated list to a JSON file\n",
    "output_file_labels = \"labels/ec_videos_labels.json\""
   ]
  },
  {
   "cell_type": "code",
   "execution_count": null,
   "id": "646341c5-c7e0-42d4-8d33-da89a10538b9",
   "metadata": {},
   "outputs": [],
   "source": [
    "videos_summaries = []\n",
    "\n",
    "for video in videos:\n",
    "    path = category_path + \"/\" + video\n",
    "    cap_vid = caption_video(path)\n",
    "    videos_summaries.append(\n",
    "        {\n",
    "            \"video_category\": category_name,\n",
    "            \"video_name\": video,\n",
    "            \"summary\": cap_vid\n",
    "        }\n",
    "    )\n",
    "\n",
    "with open(output_file_labels, \"w\") as file:\n",
    "    json.dump(videos_summaries, file, indent=4)"
   ]
  },
  {
   "cell_type": "markdown",
   "id": "4ccfa641",
   "metadata": {},
   "source": [
    "#### 2- Medium Category"
   ]
  },
  {
   "cell_type": "code",
   "execution_count": null,
   "id": "333c9c3b-e264-4ccb-bd8a-5296fbfb4d26",
   "metadata": {},
   "outputs": [],
   "source": [
    "category_name = \"2-MediumCategory\"\n",
    "category_path = \"../DatasetDivided\" + \"/\" + category_name"
   ]
  },
  {
   "cell_type": "code",
   "execution_count": null,
   "id": "e2c3c2dc",
   "metadata": {},
   "outputs": [],
   "source": [
    "sub_cat_mc_path = os.listdir(category_path)\n",
    "print(sub_cat_mc_path)"
   ]
  },
  {
   "cell_type": "code",
   "execution_count": null,
   "id": "1a552c08",
   "metadata": {},
   "outputs": [],
   "source": [
    "if not os.path.exists(\"labels\"):\n",
    "    os.makedirs(\"labels\")\n",
    "# Save the updated list to a JSON file\n",
    "output_file_labels = \"labels/mc_videos_labels.json\""
   ]
  },
  {
   "cell_type": "code",
   "execution_count": null,
   "id": "b13a1ff2",
   "metadata": {},
   "outputs": [],
   "source": [
    "videos_summaries = []\n",
    "for sub_cat in sub_cat_mc_path:\n",
    "    sub_cat_path = category_path + '/' + sub_cat\n",
    "    videos = os.listdir(sub_cat_path)\n",
    "    for video in videos:\n",
    "        path = sub_cat_path + \"/\" + video\n",
    "        cap_vid = caption_video(path)\n",
    "        videos_summaries.append(\n",
    "            {\n",
    "                \"video_category\": category_name,\n",
    "                'sub_category': sub_cat,\n",
    "                \"video_name\": video,\n",
    "                \"summary\": cap_vid\n",
    "            }\n",
    "        )\n",
    "\n",
    "with open(output_file_labels, \"w\") as file:\n",
    "    json.dump(videos_summaries, file, indent=4)"
   ]
  },
  {
   "cell_type": "markdown",
   "id": "e8e58c8d",
   "metadata": {},
   "source": [
    "#### 3- Difficult Category"
   ]
  },
  {
   "cell_type": "code",
   "execution_count": null,
   "id": "1807e4fa",
   "metadata": {},
   "outputs": [],
   "source": [
    "category_name = \"3-DifficultCategory\"\n",
    "category_path = \"../DatasetDivided\" + \"/\" + category_name"
   ]
  },
  {
   "cell_type": "code",
   "execution_count": null,
   "id": "f633526e",
   "metadata": {},
   "outputs": [],
   "source": [
    "sub_cat_mc_path = os.listdir(category_path)\n",
    "print(sub_cat_mc_path)"
   ]
  },
  {
   "cell_type": "code",
   "execution_count": null,
   "id": "bcad1f94",
   "metadata": {},
   "outputs": [],
   "source": [
    "if not os.path.exists(\"labels\"):\n",
    "    os.makedirs(\"labels\")\n",
    "# Save the updated list to a JSON file\n",
    "output_file_labels = \"labels/dc_videos_labels.json\""
   ]
  },
  {
   "cell_type": "code",
   "execution_count": null,
   "id": "92041504",
   "metadata": {},
   "outputs": [],
   "source": [
    "videos_summaries = []\n",
    "for sub_cat in sub_cat_mc_path:\n",
    "    sub_cat_path = category_path + '/' + sub_cat\n",
    "    videos = os.listdir(sub_cat_path)\n",
    "    for video in videos:\n",
    "        path = sub_cat_path + \"/\" + video\n",
    "        cap_vid = caption_video(path)\n",
    "        videos_summaries.append(\n",
    "            {\n",
    "                \"video_category\": category_name,\n",
    "                'sub_category': sub_cat,\n",
    "                \"video_name\": video,\n",
    "                \"summary\": cap_vid\n",
    "            }\n",
    "        )\n",
    "\n",
    "with open(output_file_labels, \"w\") as file:\n",
    "    json.dump(videos_summaries, file, indent=4)"
   ]
  }
 ],
 "metadata": {
  "kernelspec": {
   "display_name": "Python 3 (ipykernel)",
   "language": "python",
   "name": "python3"
  },
  "language_info": {
   "codemirror_mode": {
    "name": "ipython",
    "version": 3
   },
   "file_extension": ".py",
   "mimetype": "text/x-python",
   "name": "python",
   "nbconvert_exporter": "python",
   "pygments_lexer": "ipython3",
   "version": "3.10.16"
  }
 },
 "nbformat": 4,
 "nbformat_minor": 5
}
